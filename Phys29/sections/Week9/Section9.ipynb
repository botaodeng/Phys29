{
 "cells": [
  {
   "cell_type": "markdown",
   "metadata": {},
   "source": [
    "<h1 style=\"font-size: 32px; text-align: center;\">Introduction to Computer Programming for the Physical Sciences</h1>\n",
    "<h2 style=\"font-size: 24px; text-align: center;\">Shane Bechtel</h2>\n",
    "<h3 style=\"font-size: 24px; text-align: center;\">Spring 2024</h2>"
   ]
  },
  {
   "cell_type": "markdown",
   "metadata": {},
   "source": [
    "## Working on Section Problems\n",
    "\n",
    "<ul style=\"list-style: none;\">\n",
    "  <li style=\"margin-bottom: 10px; font-size: 20px;\"><span style=\"display: inline-block; width: 10px; height: 10px; border: 2px solid black; margin-right: 10px;\"></span>Get into groups of 2 or 3, with at least one laptop per group.</li>\n",
    "  <li style=\"margin-bottom: 10px; font-size: 20px;\"><span style=\"display: inline-block; width: 10px; height: 10px; border: 2px solid black; margin-right: 10px;\"></span>Discuss with each other and attempt each problem yourselves first without AI support for 10-15 mins.</li>\n",
    "  <li style=\"margin-bottom: 10px; font-size: 20px;\"><span style=\"display: inline-block; width: 10px; height: 10px; border: 2px solid black; margin-right: 10px;\">\n",
    "</span>Input the problem prompt into the AI chatbox, use its answer to verify your own, or to learn how it should be solved.</li>\n",
    "  <li style=\"margin-bottom: 10px; font-size: 20px;\"><span style=\"display: inline-block; width: 10px; height: 10px; border: 2px solid black; margin-right: 10px;\">\n",
    "</span>For section problems, you can omit most of the commenting and focus on learning coding. For more difficult problems, minimal comments are still recommended as a way of organizing your own thoughts.</li>\n",
    "  <li style=\"margin-bottom: 10px; font-size: 20px;\"><span style=\"display: inline-block; width: 10px; height: 10px; border: 2px solid black; margin-right: 10px;\"></span>Please abide by the <b><a href=\"https://github.com/enigma-igm/Phys29/blob/main/using_AI_tools.md\">Policy and Guidelines on Using AI Tools</a></b></li>"
   ]
  },
  {
   "cell_type": "markdown",
   "metadata": {},
   "source": [
    "# Section 9"
   ]
  },
  {
   "cell_type": "markdown",
   "metadata": {},
   "source": [
    "## Problem 1"
   ]
  },
  {
   "cell_type": "code",
   "execution_count": 1,
   "metadata": {
    "tags": []
   },
   "outputs": [],
   "source": [
    "import numpy as np\n",
    "import scipy\n",
    "import scipy.stats as stats\n",
    "from scipy import optimize\n",
    "import matplotlib.pyplot as plt"
   ]
  },
  {
   "cell_type": "markdown",
   "metadata": {},
   "source": [
    "In lecture, we have introduced how to sample from an arbitrary distribution using a change of variables. \n",
    "\n",
    "Consider the probability distribution:\n",
    "\\begin{equation}\n",
    "  P(y) =\n",
    "    \\begin{cases}\n",
    "      \\frac{3}{2} \\sqrt{y} & 0 \\leq y \\leq 1 \\\\\n",
    "      0 & otherwise\n",
    "    \\end{cases}       \n",
    "\\end{equation}\n",
    "\n",
    "$\\frac{3}{2}\\sqrt{y}$ is not a probability distribution that we can sample using ```numpy.random```, but as we have seen in lecture, we can sample from a uniform distribution: $P(x)=U(x)$, using ```numpy.random.uniform```, and find a function $y(x)$ which allows us to transform $P(x)$ to the desired distribution via $P(y) = P(x)|\\frac{dx}{dy}|$.\n",
    "\n",
    "(a) Find the function y(x) that transforms uniform probability distribution to P(y) (No coding for this problem).\n",
    "\n",
    "(b) Check that your transformation function accurately reflects your desired probability density. Sample 1000000 numbers from a uniform distribution and compare their histogram to P(y) "
   ]
  },
  {
   "cell_type": "code",
   "execution_count": null,
   "metadata": {},
   "outputs": [],
   "source": []
  },
  {
   "cell_type": "markdown",
   "metadata": {},
   "source": [
    "## Problem 2"
   ]
  },
  {
   "cell_type": "markdown",
   "metadata": {},
   "source": [
    "The file data/Cobe.txt contains data from the COBE satellite. It shows the spectrum of the cosmic microwave background. The first column gives the frequency (actually the inverse of the wavelength in $cm^{-1} units), the second column the spectrum in MJy/sr (MJy: Mega-Jansky, 1 Jy= W/Hz m2 ; sr: Steradian), so it is a measure of the spectral flux per solid angle (intensity). The third column shows the uncertainty on the spectrum in kJy/sr.\n",
    "\n",
    "(a) Load the data via Numpy's loadtxt function and make a scatter plot of intensity vs frequency. Please include error bars on the intensities, and note that the data file gives the uncertainties (3rd column) in kJy/sr, which is 0.001 Mjy/sr.\n",
    "\n",
    "(b) The function describing the data is the black body radiation spectrum:\n",
    "$$\n",
    "f(x) = \\frac{A_0 x^3}{exp(1.439x/T) - 1}\n",
    "$$\n",
    "where x is the frequency in units of $cm^{-1}$, $A_0$ and T are the fit parameters. $A_0$ is the amplitude and T the temperature of the universe.\n",
    "Overplot this function on top of the data, and try testing different values for $A_0$ and T until the function roughly matches the data points. (A very rough match is fine here, we will do the exact fit in part c, we just need a sensible initial guess. Remember the current universe is really cold compared to Earth, so try very low tempertures in Kelvin.)\n",
    "\n",
    "(c) Now use ```scipy.optimize.curve_fit to perform``` a fit to the data. You can use your estimate from part b as initial guesses. Determine from the fit how hot the universe is. "
   ]
  },
  {
   "cell_type": "code",
   "execution_count": null,
   "metadata": {},
   "outputs": [],
   "source": []
  }
 ],
 "metadata": {
  "kernelspec": {
   "display_name": "Python 3 (ipykernel)",
   "language": "python",
   "name": "python3"
  },
  "language_info": {
   "codemirror_mode": {
    "name": "ipython",
    "version": 3
   },
   "file_extension": ".py",
   "mimetype": "text/x-python",
   "name": "python",
   "nbconvert_exporter": "python",
   "pygments_lexer": "ipython3",
   "version": "3.9.5"
  }
 },
 "nbformat": 4,
 "nbformat_minor": 4
}
