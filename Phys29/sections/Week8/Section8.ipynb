{
 "cells": [
  {
   "cell_type": "markdown",
   "metadata": {},
   "source": [
    "<h1 style=\"font-size: 32px; text-align: center;\">Introduction to Computer Programming for the Physical Sciences</h1>\n",
    "<h2 style=\"font-size: 24px; text-align: center;\">Shane Bechtel</h2>\n",
    "<h3 style=\"font-size: 24px; text-align: center;\">Spring 2024</h2>"
   ]
  },
  {
   "cell_type": "markdown",
   "metadata": {},
   "source": [
    "## Working on Section Problems\n",
    "\n",
    "<ul style=\"list-style: none;\">\n",
    "  <li style=\"margin-bottom: 10px; font-size: 20px;\"><span style=\"display: inline-block; width: 10px; height: 10px; border: 2px solid black; margin-right: 10px;\"></span>Get into groups of 2 or 3, with at least one laptop per group.</li>\n",
    "  <li style=\"margin-bottom: 10px; font-size: 20px;\"><span style=\"display: inline-block; width: 10px; height: 10px; border: 2px solid black; margin-right: 10px;\"></span>Discuss with each other and attempt each problem yourselves first without AI support for 10-15 mins.</li>\n",
    "  <li style=\"margin-bottom: 10px; font-size: 20px;\"><span style=\"display: inline-block; width: 10px; height: 10px; border: 2px solid black; margin-right: 10px;\">\n",
    "</span>Input the problem prompt into the AI chatbox, use its answer to verify your own, or to learn how it should be solved.</li>\n",
    "  <li style=\"margin-bottom: 10px; font-size: 20px;\"><span style=\"display: inline-block; width: 10px; height: 10px; border: 2px solid black; margin-right: 10px;\">\n",
    "</span>For section problems, you can omit most of the commenting and focus on learning coding. For more difficult problems, minimal comments are still recommended as a way of organizing your own thoughts.</li>\n",
    "  <li style=\"margin-bottom: 10px; font-size: 20px;\"><span style=\"display: inline-block; width: 10px; height: 10px; border: 2px solid black; margin-right: 10px;\"></span>Please abide by the <b><a href=\"https://github.com/enigma-igm/Phys29/blob/main/using_AI_tools.md\">Policy and Guidelines on Using AI Tools</a></b></li>"
   ]
  },
  {
   "cell_type": "markdown",
   "metadata": {},
   "source": [
    "# Section 8"
   ]
  },
  {
   "cell_type": "markdown",
   "metadata": {},
   "source": [
    "## Problem 1"
   ]
  },
  {
   "cell_type": "code",
   "execution_count": 24,
   "metadata": {
    "tags": []
   },
   "outputs": [],
   "source": [
    "import numpy as np\n",
    "import scipy\n",
    "import scipy.stats as stats\n",
    "import matplotlib.pyplot as plt"
   ]
  },
  {
   "cell_type": "markdown",
   "metadata": {},
   "source": [
    "#### In many problems in scientific as well as non-scientific fields, we often need to measure the positions of objects to understand their properties (e.g. positions of stars in the sky, of particles in the lab, of sports players on the field, etc.). In this problem, we will take a look at a simple toy example of measuring the 2D positions of two particles. "
   ]
  },
  {
   "cell_type": "markdown",
   "metadata": {},
   "source": [
    "Assume we have two particles located at \n",
    "\n",
    "(x1, y1)=(0, 0) and (x2, y2)=(3, 4)\n",
    "\n",
    "In reality we cannot measure these perfectly and have measurement uncertainties. \n",
    "\n",
    "Assume that these uncertainties follow a gaussian distribution centered at 0 with a standard deviation of 0.1: $\\mathcal{N}$($\\mu = 0$, $\\sigma=0.1$). i.e. for each mock measurement, you will draw a random value from this gaussian distribution and use it as the \"noise\", and add it to the true positions given above. \n",
    "\n",
    "(a). Generate 100 measurements each for the positions (x1, y1) and (x2, y2), with the uncertainties drawn from the gaussian distribution $\\mathcal{N}$($\\mu = 0$, $\\sigma=0.1$) for each measurement of x or y. Plot a histogram of your mock measurements for one of the four quantities: x1, y1, x2, or y2."
   ]
  },
  {
   "cell_type": "code",
   "execution_count": 25,
   "metadata": {},
   "outputs": [
    {
     "data": {
      "text/plain": [
       "(array([ 4.,  3.,  2.,  4.,  4.,  6.,  6.,  6.,  6.,  5.,  9., 10.,  5.,\n",
       "         7., 10.,  6.,  3.,  2.,  1.,  1.]),\n",
       " array([-0.23549142, -0.21163027, -0.18776912, -0.16390797, -0.14004682,\n",
       "        -0.11618567, -0.09232452, -0.06846337, -0.04460222, -0.02074106,\n",
       "         0.00312009,  0.02698124,  0.05084239,  0.07470354,  0.09856469,\n",
       "         0.12242584,  0.14628699,  0.17014814,  0.1940093 ,  0.21787045,\n",
       "         0.2417316 ]),\n",
       " <BarContainer object of 20 artists>)"
      ]
     },
     "execution_count": 25,
     "metadata": {},
     "output_type": "execute_result"
    },
    {
     "data": {
      "image/png": "[encoded data removed]",
      "text/plain": [
       "<Figure size 640x480 with 1 Axes>"
      ]
     },
     "metadata": {},
     "output_type": "display_data"
    }
   ],
   "source": [
    "# part a\n",
    "\n",
    "x1 = np.random.normal(0,0.1,100) + 0\n",
    "x2 = np.random.normal(0,0.1,100) + 3\n",
    "y1 = np.random.normal(0,0.1,100) + 0\n",
    "y2 = np.random.normal(0,0.1,100) + 4\n",
    "plt.hist(x1,20,edgecolor = 'black')"
   ]
  },
  {
   "cell_type": "markdown",
   "metadata": {},
   "source": [
    "(b). Calculate the separation between the two particles, ($\\Delta x$, $\\Delta y$) for every pair of 2D position measurements for the two particles, save it in a new array with 100 separations. Calculate the mean and the 68% confidence interval of the separations. \n",
    "\n",
    "Use ```numpy.percentile(data_array, percentile_number)``` to calculate your confidence interval."
   ]
  },
  {
   "cell_type": "code",
   "execution_count": 26,
   "metadata": {},
   "outputs": [
    {
     "name": "stdout",
     "output_type": "stream",
     "text": [
      "2.9952047073277943 4.001594069364931\n",
      "-0.30580006056245823\n",
      "-0.2816878870122066\n"
     ]
    }
   ],
   "source": [
    "# part b\n",
    "\n",
    "d_x = x2 - x1\n",
    "d_y = y2 - y1\n",
    "\n",
    "print(d_x.mean(),d_y.mean())\n",
    "print(np.percentile(d_x,16)-np.percentile(d_x,84))\n",
    "print(np.percentile(d_y,16)-np.percentile(d_y,84))"
   ]
  },
  {
   "cell_type": "markdown",
   "metadata": {},
   "source": [
    "(c). Calculate the distance $\\rho = \\sqrt{\\Delta x^2 + \\Delta y^2}$ and save it in another array of size 100. Calculate the mean and 68% confidence interval of the distance. What is the absolute error of the mean relative to the true value: $\\rho_{true} = \\sqrt{3^2 + 4^2} = 5$? This error is much smaller than the 68% interval for the distribution, why is that? is it just by chance our result is so precise?"
   ]
  },
  {
   "cell_type": "code",
   "execution_count": 29,
   "metadata": {},
   "outputs": [
    {
     "name": "stdout",
     "output_type": "stream",
     "text": [
      "0.11707679388899894\n",
      "0.1365635316578669\n"
     ]
    }
   ],
   "source": [
    "# part c\n",
    "\n",
    "distance = np.sqrt(d_x**2 + d_y**2)\n",
    "\n",
    "print(abs(distance-5).mean())\n",
    "print(np.percentile(abs(distance-5),84)-np.percentile(abs(distance-5),16))"
   ]
  },
  {
   "cell_type": "markdown",
   "metadata": {},
   "source": [
    "(d). Now, multiply your absolute error by $\\sqrt{100}$, and then compare to the interval again. You are more likely to find that they are now on the same order of magnitude. This shows the difference between the uncertainty of the distribution a single data point is drawn from, and the \"uncertainty of the mean\", where the mean value benefits from making repeated measurements of the same quantity and becomes more precise as the number of measurements increases. \n",
    "\n",
    "For independent measurements, each measurement is then like a new random variable. The mean is the sum of these independent variables divided by the number of measurements: \n",
    "$$\\overline{x} = \\frac{1}{N} (x_1 + x_2 + ... + x_N)$$\n"
   ]
  },
  {
   "cell_type": "code",
   "execution_count": 31,
   "metadata": {
    "tags": []
   },
   "outputs": [
    {
     "name": "stdout",
     "output_type": "stream",
     "text": [
      "1.3656353165786688\n"
     ]
    }
   ],
   "source": [
    "# part d\n",
    "\n",
    "a = abs(distance - 5) * np.sqrt(100)\n",
    "\n",
    "print(np.percentile(a,84)-np.percentile(a,16))"
   ]
  },
  {
   "cell_type": "markdown",
   "metadata": {},
   "source": [
    "\n",
    "(e). Prove that the standard deviation of the mean satisfies: $\\sigma_{\\overline{x}}$ = $\\frac{1}{\\sqrt{N}} \\sigma_{x}$, (Latex isn't working properly, but the left sigma should be sigma_xbar, and the right sigma is just sigma_x) where N is the number of independent measurements, and all $x_{i}$ have the same standard deviation: $\\sigma_{x} = \\sigma_{x_i}$. \n",
    "\n",
    "You can use Pen and Paper for this."
   ]
  }
 ],
 "metadata": {
  "kernelspec": {
   "display_name": "Python 3 (ipykernel)",
   "language": "python",
   "name": "python3"
  },
  "language_info": {
   "codemirror_mode": {
    "name": "ipython",
    "version": 3
   },
   "file_extension": ".py",
   "mimetype": "text/x-python",
   "name": "python",
   "nbconvert_exporter": "python",
   "pygments_lexer": "ipython3",
   "version": "3.11.8"
  }
 },
 "nbformat": 4,
 "nbformat_minor": 4
}
