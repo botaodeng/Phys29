{
 "cells": [
  {
   "cell_type": "markdown",
   "metadata": {},
   "source": [
    "<h1 style=\"font-size: 32px; text-align: center;\">Introduction to Computer Programming for the Physical Sciences</h1>\n",
    "<h2 style=\"font-size: 24px; text-align: center;\">Shane Bechtel</h2>\n",
    "<h3 style=\"font-size: 24px; text-align: center;\">Spring 2024</h2>"
   ]
  },
  {
   "cell_type": "markdown",
   "metadata": {},
   "source": [
    "## Working on Section Problems\n",
    "\n",
    "<ul style=\"list-style: none;\">\n",
    "  <li style=\"margin-bottom: 10px; font-size: 20px;\"><span style=\"display: inline-block; width: 10px; height: 10px; border: 2px solid black; margin-right: 10px;\"></span>Get into groups of 2 or 3, with at least one laptop per group.</li>\n",
    "  <li style=\"margin-bottom: 10px; font-size: 20px;\"><span style=\"display: inline-block; width: 10px; height: 10px; border: 2px solid black; margin-right: 10px;\"></span>Discuss with each other and attempt each problem yourselves first without AI support for 10-15 mins.</li>\n",
    "  <li style=\"margin-bottom: 10px; font-size: 20px;\"><span style=\"display: inline-block; width: 10px; height: 10px; border: 2px solid black; margin-right: 10px;\">\n",
    "</span>Input the problem prompt into the AI chatbox, use its answer to verify your own, or to learn how it should be solved.</li>\n",
    "  <li style=\"margin-bottom: 10px; font-size: 20px;\"><span style=\"display: inline-block; width: 10px; height: 10px; border: 2px solid black; margin-right: 10px;\">\n",
    "</span>For section problems, you can omit most of the commenting and focus on learning coding. For more difficult problems, minimal comments are still recommended as a way of organizing your own thoughts.</li>\n",
    "  <li style=\"margin-bottom: 10px; font-size: 20px;\"><span style=\"display: inline-block; width: 10px; height: 10px; border: 2px solid black; margin-right: 10px;\"></span>Please abide by the <b><a href=\"https://github.com/enigma-igm/Phys29/blob/main/using_AI_tools.md\">Policy and Guidelines on Using AI Tools</a></b></li>"
   ]
  },
  {
   "cell_type": "markdown",
   "metadata": {},
   "source": [
    "# Section 8"
   ]
  },
  {
   "cell_type": "markdown",
   "metadata": {},
   "source": [
    "## Problem 1"
   ]
  },
  {
   "cell_type": "code",
   "execution_count": 1,
   "metadata": {
    "tags": []
   },
   "outputs": [],
   "source": [
    "import numpy as np\n",
    "import scipy\n",
    "import scipy.stats as stats\n",
    "import matplotlib.pyplot as plt"
   ]
  },
  {
   "cell_type": "markdown",
   "metadata": {},
   "source": [
    "#### In many problems in scientific as well as non-scientific fields, we often need to measure the positions of objects to understand their properties (e.g. positions of stars in the sky, of particles in the lab, of sports players on the field, etc.). In this problem, we will take a look at a simple toy example of measuring the 2D positions of two particles. "
   ]
  },
  {
   "cell_type": "markdown",
   "metadata": {},
   "source": [
    "Assume we have two particles located at \n",
    "\n",
    "(x1, y1)=(0, 0) and (x2, y2)=(3, 4)\n",
    "\n",
    "In reality we cannot measure these perfectly and have measurement uncertainties. \n",
    "\n",
    "Assume that these uncertainties follow a gaussian distribution centered at 0 with a standard deviation of 0.1: $\\mathcal{N}$($\\mu = 0$, $\\sigma=0.1$). i.e. for each mock measurement, you will draw a random value from this gaussian distribution and use it as the \"noise\", and add it to the true positions given above. \n",
    "\n",
    "(a). Generate 100 measurements each for the positions (x1, y1) and (x2, y2), with the uncertainties drawn from the gaussian distribution $\\mathcal{N}$($\\mu = 0$, $\\sigma=0.1$) for each measurement of x or y. Plot a histogram of your mock measurements for one of the four quantities: x1, y1, x2, or y2."
   ]
  },
  {
   "cell_type": "code",
   "execution_count": 8,
   "metadata": {},
   "outputs": [
    {
     "data": {
      "image/png": "[encoded data removed]",
      "text/plain": [
       "<Figure size 640x480 with 1 Axes>"
      ]
     },
     "metadata": {},
     "output_type": "display_data"
    }
   ],
   "source": [
    "# part a\n",
    "\n",
    "# Generate 100 noise realizations for each measurement\n",
    "# We can create them all at once, and add to them our \"true\" locations\n",
    "x1_arr = 0 + np.random.normal(0,0.1,size=(100))\n",
    "x2_arr = 3 + np.random.normal(0,0.1,size=(100))\n",
    "y1_arr = 0 + np.random.normal(0,0.1,size=(100))\n",
    "y2_arr = 4 + np.random.normal(0,0.1,size=(100))\n",
    "\n",
    "plt.hist(x2_arr)\n",
    "plt.show()\n"
   ]
  },
  {
   "cell_type": "markdown",
   "metadata": {},
   "source": [
    "(b). Calculate the separation between the two particles, ($\\Delta x$, $\\Delta y$) for every pair of 2D position measurements for the two particles, save it in a new array with 100 separations. Calculate the mean and the 68% confidence interval of the separations. Use ```numpy.percentile(data_array, percentile_number)``` to calculate your confidence interval."
   ]
  },
  {
   "cell_type": "code",
   "execution_count": 3,
   "metadata": {},
   "outputs": [
    {
     "name": "stdout",
     "output_type": "stream",
     "text": [
      "The separation between the x positions is 3.0058 with a 68% confidence interval of: 2.8592 - 3.1297\n",
      "The separation between the y positions is 4.0098 with a 68% confidence interval of: 3.8539 - 4.1565\n"
     ]
    }
   ],
   "source": [
    "# part b\n",
    "\n",
    "# Calculate the separations between all 100 realizations\n",
    "dx_arr = x2_arr - x1_arr \n",
    "dy_arr = y2_arr - y1_arr\n",
    "\n",
    "# Find the mean separations\n",
    "mean_dx = dx_arr.mean()\n",
    "mean_dy = dy_arr.mean()\n",
    "\n",
    "# Calculate the 68% confidence interval for the separations\n",
    "dx_16th = np.percentile(dx_arr,16)\n",
    "dx_84th = np.percentile(dx_arr,84)\n",
    "\n",
    "dy_16th = np.percentile(dy_arr,16)\n",
    "dy_84th = np.percentile(dy_arr,84)\n",
    "\n",
    "print(f\"The separation between the x positions is {mean_dx.round(4)} \" + \n",
    "      f\"with a 68% confidence interval of: {dx_16th.round(4)} - {dx_84th.round(4)}\")\n",
    "\n",
    "print(f\"The separation between the y positions is {mean_dy.round(4)} \" + \n",
    "      f\"with a 68% confidence interval of: {dy_16th.round(4)} - {dy_84th.round(4)}\")"
   ]
  },
  {
   "cell_type": "markdown",
   "metadata": {},
   "source": [
    "(c). Calculate the distance $\\rho = \\sqrt{\\Delta x^2 + \\Delta y^2}$ and save it in another array of size 100. Calculate the mean and 68% confidence interval of the distance. What is the absolute error of the mean relative to the true value: $\\rho_{true} = \\sqrt{3^2 + 4^2} = 5$? This error is much smaller than the 68% interval for the distribution, why is that? is it just by chance our result is so precise?"
   ]
  },
  {
   "cell_type": "code",
   "execution_count": 4,
   "metadata": {},
   "outputs": [
    {
     "name": "stdout",
     "output_type": "stream",
     "text": [
      "The separation between the two positions is 5.0134 with a 68% confidence interval of: 4.8716 - 5.1374\n",
      "The absolute error is 0.0134, compared to the measured error of 0.1329. This is a factor of 9.9178 difference.\n"
     ]
    }
   ],
   "source": [
    "# part c\n",
    "\n",
    "# Repeat part b but with a radial separation\n",
    "rho = np.sqrt(dx_arr**2 + dy_arr**2)\n",
    "\n",
    "mean_rho = rho.mean()\n",
    "\n",
    "rho_16th = np.percentile(rho,16)\n",
    "rho_84th = np.percentile(rho,84)\n",
    "\n",
    "print(f\"The separation between the two positions is {mean_rho.round(4)} \" + \n",
    "      f\"with a 68% confidence interval of: {rho_16th.round(4)} - {rho_84th.round(4)}\")\n",
    "\n",
    "# Now, find the difference in true value and mean value,\n",
    "# and compare to our 68% confidence interval\n",
    "rho_abs_err = np.abs(5-mean_rho)\n",
    "\n",
    "rho_meas_err = (rho_84th-rho_16th)/2\n",
    "\n",
    "print(f\"The absolute error is {rho_abs_err.round(4)}, compared to the measured error of {rho_meas_err.round(4)}. \" +\n",
    "     f\"This is a factor of {(rho_meas_err/rho_abs_err).round(4)} difference.\")\n"
   ]
  },
  {
   "cell_type": "markdown",
   "metadata": {},
   "source": [
    "(d). Now, multiply your absolute error by $\\sqrt{100}$, and then compare to the interval again. You are more likely to find that they are now on the same order of magnitude. This shows the difference between the uncertainty of the distribution a single data point is drawn from, and the \"uncertainty of the mean\", where the mean value benefits from making repeated measurements of the same quantity and becomes more precise as the number of measurements increases. \n",
    "\n",
    "For independent measurements, each measurement is then like a new random variable. The mean is the sum of these independent variables divided by the number of measurements: \n",
    "$$\\overline{x} = \\frac{1}{N} (x_1 + x_2 + ... + x_N)$$\n",
    "\n"
   ]
  },
  {
   "cell_type": "code",
   "execution_count": 5,
   "metadata": {
    "tags": []
   },
   "outputs": [
    {
     "name": "stdout",
     "output_type": "stream",
     "text": [
      "0.13402480562923813 0.13292343358154834 1.008285762848686\n"
     ]
    }
   ],
   "source": [
    "# part d\n",
    "\n",
    "#    Absolute error times sqrt(N);    Measured Error;     Ratio of the two\n",
    "print(rho_abs_err*np.sqrt(100), rho_meas_err, rho_abs_err*np.sqrt(100)/rho_meas_err)\n"
   ]
  },
  {
   "cell_type": "markdown",
   "metadata": {},
   "source": [
    "\n",
    "(e). Prove that the standard deviation of the mean satisfies: $\\sigma_{\\overline{x}}$ = $\\frac{1}{\\sqrt{N}} \\sigma_{x}$, (Latex isn't working properly, but the left sigma should be sigma_xbar, and the right sigma is just sigma_x) where N is the number of independent measurements, and all $x_{i}$ have the same standard deviation: $\\sigma_{x} = \\sigma_{x_i}$. \n",
    "\n",
    "You can use Pen and Paper for this."
   ]
  },
  {
   "cell_type": "markdown",
   "metadata": {},
   "source": [
    "Proof:\n",
    "\\begin{align}\n",
    "\\overline{x} &= \\frac{1}{N} \\sum^N_{i=1} x_i \\\\\n",
    "Var(\\overline{x}) &= Var(\\frac{1}{N} \\sum^N_{i=1} x_i) \\\\\n",
    "Var(\\overline{x}) &= \\frac{1}{N^2} Var(\\sum^N_{i=1} x_i) \\\\\n",
    "Var(\\overline{x}) &= \\frac{1}{N^2} \\sum^N_{i=1} Var(x_i)\\\\\n",
    "Var(\\overline{x}) &= \\frac{N}{N^2} Var(x)\\\\\n",
    "Var(\\overline{x}) &= \\frac{1}{N}Var(x) \\\\ \n",
    "\\sigma_{\\overline{x}} &= \\frac{1}{\\sqrt{N}} \\sigma_{x}\n",
    "\\end{align}"
   ]
  }
 ],
 "metadata": {
  "kernelspec": {
   "display_name": "Python 3 (ipykernel)",
   "language": "python",
   "name": "python3"
  },
  "language_info": {
   "codemirror_mode": {
    "name": "ipython",
    "version": 3
   },
   "file_extension": ".py",
   "mimetype": "text/x-python",
   "name": "python",
   "nbconvert_exporter": "python",
   "pygments_lexer": "ipython3",
   "version": "3.9.5"
  }
 },
 "nbformat": 4,
 "nbformat_minor": 4
}
