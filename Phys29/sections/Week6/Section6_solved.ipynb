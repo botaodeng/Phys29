{
 "cells": [
  {
   "cell_type": "markdown",
   "metadata": {},
   "source": [
    "<h1 style=\"font-size: 32px; text-align: center;\">Introduction to Computer Programming for the Physical Sciences</h1>\n",
    "<h2 style=\"font-size: 24px; text-align: center;\">Shane Bechtel</h2>\n",
    "<h3 style=\"font-size: 24px; text-align: center;\">Spring 2024</h2>"
   ]
  },
  {
   "cell_type": "markdown",
   "metadata": {},
   "source": [
    "## Working on Section Problems\n",
    "\n",
    "<ul style=\"list-style: none;\">\n",
    "  <li style=\"margin-bottom: 10px; font-size: 20px;\"><span style=\"display: inline-block; width: 10px; height: 10px; border: 2px solid black; margin-right: 10px;\"></span>Get into groups of 2 or 3, with at least one laptop per group.</li>\n",
    "  <li style=\"margin-bottom: 10px; font-size: 20px;\"><span style=\"display: inline-block; width: 10px; height: 10px; border: 2px solid black; margin-right: 10px;\"></span>Discuss with each other and attempt each problem yourselves first without AI support for 10-15 mins.</li>\n",
    "  <li style=\"margin-bottom: 10px; font-size: 20px;\"><span style=\"display: inline-block; width: 10px; height: 10px; border: 2px solid black; margin-right: 10px;\">\n",
    "</span>Input the problem prompt into the AI chatbox, use its answer to verify your own, or to learn how it should be solved.</li>\n",
    "  <li style=\"margin-bottom: 10px; font-size: 20px;\"><span style=\"display: inline-block; width: 10px; height: 10px; border: 2px solid black; margin-right: 10px;\">\n",
    "</span>For section problems, you can omit most of the commenting and focus on learning coding. For more difficult problems, minimal comments are still recommended as a way of organizing your own thoughts.</li>\n",
    "  <li style=\"margin-bottom: 10px; font-size: 20px;\"><span style=\"display: inline-block; width: 10px; height: 10px; border: 2px solid black; margin-right: 10px;\"></span>Please abide by the <b><a href=\"https://github.com/enigma-igm/Phys29/blob/main/using_AI_tools.md\">Policy and Guidelines on Using AI Tools</a></b></li>"
   ]
  },
  {
   "cell_type": "markdown",
   "metadata": {},
   "source": [
    "# Section 6"
   ]
  },
  {
   "cell_type": "markdown",
   "metadata": {},
   "source": [
    "## Anonymous Poll"
   ]
  },
  {
   "cell_type": "markdown",
   "metadata": {
    "tags": []
   },
   "source": [
    "### Please first complete this anonymous poll for us to get an idea of how long the homework is taking everyone:\n",
    "https://forms.gle/U5kUu3c8JMuoBWFJ6"
   ]
  },
  {
   "cell_type": "markdown",
   "metadata": {},
   "source": [
    "## Problem 1"
   ]
  },
  {
   "cell_type": "markdown",
   "metadata": {},
   "source": [
    "The sinc function,\n",
    "\\begin{equation}\n",
    "  sinc(x) =\n",
    "    \\begin{cases}\n",
    "      \\frac{sin(x)}{x} & x\\neq 0\\\\\n",
    "      1 & x = 0\n",
    "    \\end{cases}       \n",
    "\\end{equation}\n",
    "shows up frequently in signal processing. One of the important applications of this function in physics is that the intensity pattern of (Fraunhofer) single slit diffraction is given by \n",
    "\\begin{align}\n",
    "I(\\alpha) &= I_0 sinc^2(\\alpha) \\tag{1}\\\\\n",
    "\\end{align}\n",
    "where $\\alpha = (\\frac{\\pi a}{\\lambda}) sin\\theta$, a is the slit width, $\\lambda$ is the wavelength of light, $\\theta$ is the angle that the light makes with the perpendicular direction to the screen, and $I_0$ is the intensity in the direction perpendicular to the screen.\n",
    "\n",
    "(a) Set $I_0 = 1$, make a plot of the intensity distribution as a function of the parameter $\\alpha$, for $−10 \\leq \\alpha \\leq 10$. You can do this by either defining your own sinc function, or using ```np.sinc(alpha/np.pi)``` (note that there is a $\\pi$ in the denominator if you use numpy, since it follows a different convention).\n",
    "\n",
    "(b) The maxima are given by the roots of the following equation:\n",
    "$$f(\\alpha) = \\alpha cos(\\alpha) - sin(\\alpha) = 0 \\tag{2}$$\n",
    "Using either bracketing and bisection, or Newton-Raphson, calculate the lowest $\\textbf{positive}$ value of $\\alpha$ that give rise to a maximum in the intensity pattern. Plot these locations as points on your graph of the intensity pattern."
   ]
  },
  {
   "cell_type": "code",
   "execution_count": 1,
   "metadata": {
    "tags": []
   },
   "outputs": [],
   "source": [
    "# your solution here\n",
    "\n",
    "# hint for part b: \n",
    "# 1. Read the lecture notes on root finding, you can use the complete code in the notes for both bisection and Newton's method.\n",
    "# 2. To find the smallest positive root of equation (2), look at the plot you made for equation (1), and use a good initial guess.\n",
    "# 3. You do NOT need to plot equation (2), that is only used to find the maximum. Once you find the root, alpha0, you need to plot\n",
    "#    (alpha0, I(alpha0)) as a single point on top of the plot for equation (1)."
   ]
  },
  {
   "cell_type": "code",
   "execution_count": 2,
   "metadata": {},
   "outputs": [],
   "source": [
    "\n",
    "import numpy as np\n",
    "        \n",
    "# Create a function for equation 1\n",
    "def intensity(alpha, I0=1):\n",
    "    \n",
    "    return I0 * np.sinc(alpha/np.pi)**2\n",
    "    "
   ]
  },
  {
   "cell_type": "code",
   "execution_count": 3,
   "metadata": {
    "scrolled": true
   },
   "outputs": [],
   "source": [
    "\n",
    "# Create a range of alpha values\n",
    "alphas = np.linspace(-10,10,10001)\n",
    "\n",
    "# Find the corresponding intensity values\n",
    "intensities = intensity(alphas)\n"
   ]
  },
  {
   "cell_type": "code",
   "execution_count": 4,
   "metadata": {},
   "outputs": [
    {
     "data": {
      "image/png": "[encoded data removed]",
      "text/plain": [
       "<Figure size 640x480 with 1 Axes>"
      ]
     },
     "metadata": {},
     "output_type": "display_data"
    }
   ],
   "source": [
    "\n",
    "# Plot intensity vs alpha\n",
    "import matplotlib.pyplot as plt\n",
    "plt.plot(alphas,intensities)\n",
    "plt.show()\n"
   ]
  },
  {
   "cell_type": "code",
   "execution_count": 5,
   "metadata": {},
   "outputs": [],
   "source": [
    "\n",
    "# Root finding functions from Lecture Notes\n",
    "\n",
    "def bisection(func, a, b, tol=1e-4, max_iter=100, verbose=False):\n",
    "    \"\"\"\n",
    "    Find a root x of the equation func(x)=0 within an interval [a, b] using the bisection method.\n",
    "\n",
    "    Parameters\n",
    "    ----------\n",
    "    func : callable\n",
    "        The function for which to find the root. \n",
    "    a : float\n",
    "        The lower bound of the interval.\n",
    "    b : float\n",
    "        The upper bound of the interval.\n",
    "    tol : float, optional\n",
    "        The absolute tolerance for the root. The function returns when the size of the bisection interval is less than tol. Default is 1e-4. \n",
    "    max_iter : int, optional\n",
    "        The maximum number of iterations. Default is 100.\n",
    "\n",
    "    Returns\n",
    "    -------\n",
    "    root: float\n",
    "        The root of the function.\n",
    "\n",
    "    Raises\n",
    "    ------\n",
    "    ValueError\n",
    "        If a is not less than b.\n",
    "    ValueError\n",
    "        If f(a) and f(b) have the same sign.\n",
    "    ValueError\n",
    "        If the function does not converge within max_iter iterations.\n",
    "    \"\"\"\n",
    "    # Do some error checking\n",
    "    if not a < b:\n",
    "        raise ValueError(\"a must be less than b\")\n",
    "    if func(a) * func(b) > 0:\n",
    "        raise ValueError(\"f(a) and f(b) must have different signs\")\n",
    "\n",
    "    for iter in range(max_iter):\n",
    "        # bisect, x is the new candidate root\n",
    "        x = (a + b) / 2\n",
    "        if verbose:\n",
    "            # Print the current values of a, root, and b\n",
    "            print(f\"iteration: {iter + 1:3d}, a: {a:.6f}, root: {x:.6f}, b: {b:.6f}, eps: {(b - a)/2:.6f}\")\n",
    "        # Check if we found the zero or if the localization interval (b-a)/2 = (x-a) = (b-x) \n",
    "        # is within the tolerance.\n",
    "        if func(x) == 0.0 or (b - a)/2 < tol:\n",
    "            break\n",
    "        # If the signs of f(x) and f(a) are different then the root is between a and x, update b\n",
    "        if func(x) * func(a) < 0:\n",
    "            b = x\n",
    "        # Otherwise if the sign of f(a) and f(x) are the same, the root is between x and b, update a\n",
    "        else:\n",
    "            a = x\n",
    "    else:\n",
    "        # If the loop completes without a break, enter the else and raise an error.\n",
    "        raise ValueError(f\"The localization interval = {b-a/2} > {tol} = tolerance after max_iter = {max_iter} iterations\\n\" + \n",
    "                         f\"Increase the value of max_iter. \")\n",
    "    return x"
   ]
  },
  {
   "cell_type": "code",
   "execution_count": 6,
   "metadata": {},
   "outputs": [],
   "source": [
    "\n",
    "def deriv(func, x, h=1e-4):\n",
    "    \"\"\"\n",
    "    Compute the nth derivative of a function f(x) using the symmetric difference formula.\n",
    "\n",
    "    Parameters\n",
    "    ----------\n",
    "    func : callable \n",
    "        Function to take the derivative of.\n",
    "    x : float or array_like\n",
    "        Location(s) at which to evaluate the derivative.\n",
    "    h : float, optional\n",
    "        Step size. The default is 1e-4.\n",
    "\n",
    "    Returns\n",
    "    -------\n",
    "    df/dx(x): float or array_like\n",
    "        The derivative of f(x) evaluated at x. shape is same as x. \n",
    "\n",
    "    \"\"\"\n",
    "    return (func(x + h) - func(x - h))/(2*h)\n",
    "\n",
    "\n",
    "def newton_raphson(func, x0, fprime=None, tol=1e-4, h=1e-4, max_iter=100, verbose=False):\n",
    "    \"\"\"\n",
    "    Find a root x of the equation func(x)=0 with derivative df(x) using the Newton-Raphson method.\n",
    "\n",
    "    Parameters\n",
    "    ----------\n",
    "    func : callable\n",
    "        The function for which to find the root.\n",
    "    x0 : float\n",
    "        The initial guess for the root.\n",
    "    fprime : callable, optional \n",
    "        The derivative of the function. Default is None, in which case the derivative will be computed numerically.  \n",
    "    tol : float, optional\n",
    "        The absolute tolerance for the root. The function returns when the absolute value of the difference \n",
    "        between the current and previous root is less than tol. Default is 1e-5.\n",
    "    h : float, optional\n",
    "        Step size if the derivative is to be computed numerically. The default is 1e-4.\n",
    "    max_iter : int, optional\n",
    "        The maximum number of iterations. Default is 100.\n",
    "    verbose : bool, optional\n",
    "        If True, print the iteration process. Default is False.\n",
    "\n",
    "    Returns\n",
    "    -------\n",
    "    float\n",
    "        The root of the function.\n",
    "\n",
    "    Raises\n",
    "    ------\n",
    "    ValueError\n",
    "        If the function does not converge within max_iter iterations.\n",
    "    \"\"\"\n",
    "    # Initialize the current guess for the root\n",
    "    x = x0\n",
    "\n",
    "    # Perform the Newton-Raphson iteration\n",
    "    for iter in range(max_iter):\n",
    "        # Calculate the function value and its derivative at the current guess\n",
    "        f = func(x)\n",
    "        # Use the analytical derivative function if provided, otherweise use the numerical derivative\n",
    "        dfx = fprime(x) if fprime is not None else deriv(func, x, h=h)\n",
    "\n",
    "        # Update the guess using the Newton-Raphson formula\n",
    "        prev_x = x\n",
    "        x = x - f/dfx\n",
    "\n",
    "        if verbose:\n",
    "            # Print the current iteration, root, and absolute difference between the current and previous root\n",
    "            print(f\"iteration: {iter + 1}, current root: {x:.12f}, previous root: {prev_x:.12f}, |difference|: {np.abs(x - prev_x):.12f}\")\n",
    "\n",
    "        # If the absolute difference between the current and previous root is less than the tolerance, the root has been found\n",
    "        if np.abs(x - prev_x) < tol:\n",
    "            break \n",
    "    else: \n",
    "        # If the function did not break out after max_iter iterations we enter elese. Since it did not converge. Raise an exception. \n",
    "        raise ValueError(f\"The absolute difference between the current and previous root = {abs(x - prev_x)} > {tol} = tolerance after max_iter = {max_iter} iterations\\n\" + \n",
    "                         f\"Increase the value of max_iter or changing the initial guess.\")\n",
    "    \n",
    "    return x\n"
   ]
  },
  {
   "cell_type": "code",
   "execution_count": 7,
   "metadata": {},
   "outputs": [
    {
     "name": "stdout",
     "output_type": "stream",
     "text": [
      "4.493499755859375\n",
      "4.493409457909528\n"
     ]
    }
   ],
   "source": [
    "\n",
    "# Create a function for equation 2\n",
    "def roots(a):\n",
    "    return a*np.cos(a) - np.sin(a)\n",
    "\n",
    "# Using both of the functions from the Week 6 Lecture Notes\n",
    "root = bisection(roots, 3.0, 6.0) # Initial Boundaries\n",
    "print(root)\n",
    "root = newton_raphson(roots, 4.0) # Initial Guess\n",
    "print(root)"
   ]
  },
  {
   "cell_type": "code",
   "execution_count": 8,
   "metadata": {},
   "outputs": [
    {
     "data": {
      "image/png": "[encoded data removed]",
      "text/plain": [
       "<Figure size 640x480 with 1 Axes>"
      ]
     },
     "metadata": {},
     "output_type": "display_data"
    }
   ],
   "source": [
    "\n",
    "plt.plot(alphas, intensities)\n",
    "plt.scatter(root, intensity(root), c='red')\n",
    "plt.show()\n"
   ]
  },
  {
   "cell_type": "markdown",
   "metadata": {},
   "source": [
    "## Problem 2"
   ]
  },
  {
   "cell_type": "markdown",
   "metadata": {},
   "source": [
    "The Gaussian distribution:\n",
    "\\begin{equation}\n",
    "p(x) = \\frac{1}{\\sqrt{2\\pi\\sigma^2}} exp(-\\frac{(x - \\mu)^2}{2σ^2})\n",
    "\\end{equation}\n",
    "is probably the most famous statistical distribution. It shows up in a huge range of problems, and you will probably end up using it when analyzing your lab results (even if you don’t realize it). The Gaussian distribution is normalized such that \n",
    "$$\\int^{\\infty}_{-\\infty}p(x)dx = 1 $$\n",
    "and $p(x) dx$ is the infinitesimal probability that a single measurement lies in the interval (x, x + dx), if the underlying quantity you are measuring follows the Gaussian distribution.\n",
    "Set $\\mu = 0$ and $\\sigma = 1$. What is the total probability with $−3 < x < 3$? \n",
    "\n",
    "In other words, please compute \n",
    "$$\\int^{3}_{-3}p(x) dx$$ \n",
    "\n",
    "Please use a numerical integration scheme of your choice to get a precision of $10^{-6}$. To measure your precision, you can get the exact answer with ```scipy.special.erf(3/np.sqrt(2))```."
   ]
  },
  {
   "cell_type": "code",
   "execution_count": 9,
   "metadata": {
    "tags": []
   },
   "outputs": [],
   "source": [
    "# your solution here\n",
    "\n",
    "# hint: again, you can refer to the lecture notes on the numerical integration schemes"
   ]
  },
  {
   "cell_type": "code",
   "execution_count": 10,
   "metadata": {},
   "outputs": [],
   "source": [
    "\n",
    "# Create a function for the gaussian distribution\n",
    "def gaussian(x, mu=0, sig=1):\n",
    "    \n",
    "    coeff = 1/np.sqrt(2*np.pi*sig**2)\n",
    "    exp_term = np.exp(-(x-mu)**2 / (2*sig**2))\n",
    "    \n",
    "    return coeff * exp_term\n"
   ]
  },
  {
   "cell_type": "code",
   "execution_count": 11,
   "metadata": {},
   "outputs": [],
   "source": [
    "\n",
    "# Use integration functions from Lecture Notes\n",
    "\n",
    "def midpoint_riemann_sum(func, a, b, n, plot=True):\n",
    "    \"\"\"\n",
    "    Compute the Riemann sum of func(x) over the interval [a, b] with n subintervals using the midpoint rule.\n",
    "\n",
    "    Parameters\n",
    "    ----------\n",
    "    func : callable \n",
    "        The function to integrate.\n",
    "    a : float\n",
    "        The lower limit of integration.\n",
    "    b : float\n",
    "        The upper limit of integration.\n",
    "    n : int, optional\n",
    "        The number of subintervals to use.\n",
    "    plot : bool, optional\n",
    "        If True, plot the function func(x) over the interval [a, b] as well as the rectangles \n",
    "        used to compute the Riemann sum. Default is True.\n",
    "\n",
    "    Returns\n",
    "    -------\n",
    "    answer : float\n",
    "        The estimate of the integral of func(x) over the interval [a, b].\n",
    "\n",
    "    \"\"\"\n",
    "\n",
    "    # Create the partition of the interval [a, b]\n",
    "    x = np.linspace(a, b, n+1)\n",
    "    dx = (b - a) / n\n",
    "\n",
    "    # Compute the value of the function at the midpoint of each subinterval\n",
    "    x_mid = (x[:-1] + x[1:]) / 2\n",
    "    y_mid = func(x_mid)\n",
    "\n",
    "    # Compute the area of each rectangle\n",
    "    area = dx * y_mid\n",
    "\n",
    "    # Compute the Riemann sum\n",
    "    answer = np.sum(area)\n",
    "\n",
    "    # Plot the function and the rectangles. Generate a red point at the midpoint location\n",
    "    if plot:\n",
    "        plot_riemann_sum(func, a, b, x_mid, y_mid, dx, 'midpoint', 'Midpoint Riemann sum, n = {}'.format(n))\n",
    "\n",
    "    return answer\n"
   ]
  },
  {
   "cell_type": "code",
   "execution_count": 12,
   "metadata": {},
   "outputs": [],
   "source": [
    "\n",
    "from matplotlib.ticker import AutoMinorLocator\n",
    "\n",
    "def plot_riemann_sum(func, a, b, x, y, dx, kind, title, nfine=1000):\n",
    "    \"\"\" Plotting utility function for Riemann sums\n",
    "\n",
    "    Parameters\n",
    "    ----------\n",
    "    func : callable\n",
    "        The function to integrate.\n",
    "    a : float\n",
    "        The lower limit of integration.\n",
    "    b : float\n",
    "        The upper limit of integration.\n",
    "    x : array_like\n",
    "        The x-coordinates of the evaluation point of the subintervals.\n",
    "    y : array_like\n",
    "        The y-coordinates of the evaluation point of the subintervals.\n",
    "    dx : float\n",
    "        The width of the subintervals.\n",
    "    kind: str\n",
    "        The kind of Riemann sum to plot. Must be either 'left', 'right', or 'midpoint'.\n",
    "    title : str\n",
    "        The title of the plot.\n",
    "    nfine : int, optional\n",
    "        The number of fine points to plot the function with. Default is 1000.\n",
    "    \"\"\"\n",
    "\n",
    "    # For plotting the curve evaluate on a finely spaced set of points. \n",
    "    x_fine = np.linspace(a, b, nfine)\n",
    "    plt.plot(x_fine, func(x_fine), 'b', label='f(x)')\n",
    "    plt.plot(x, y, 'ro', label='Evaluation Points')\n",
    "    plt.title(title)\n",
    "    plt.xlabel('x', fontsize=16)\n",
    "    plt.ylabel('y', fontsize=16)\n",
    "    if kind == 'left' or kind == 'right':        \n",
    "        plt.bar(x, y, width=dx, alpha=0.8, facecolor='orange', edgecolor='k', align='edge', label='Rectangles')\n",
    "    else: \n",
    "        plt.bar(x, y, width=dx, alpha=0.8, facecolor='orange', edgecolor='k', align='center', label='Rectangles')\n",
    "\n",
    "    # Set approximately 5 minor ticks on x-axis and y-axis\n",
    "    plt.gca().xaxis.set_minor_locator(AutoMinorLocator(5))\n",
    "    plt.gca().yaxis.set_minor_locator(AutoMinorLocator(5))\n",
    "\n",
    "    # Add ticks on the top and right axes\n",
    "    plt.gca().tick_params(which='both', top=True, right=True)\n",
    "\n",
    "    plt.legend(loc='best')\n",
    "    "
   ]
  },
  {
   "cell_type": "code",
   "execution_count": 13,
   "metadata": {},
   "outputs": [
    {
     "name": "stdout",
     "output_type": "stream",
     "text": [
      "200\n",
      "0.9973012009455826 0.9973002039367398\n"
     ]
    }
   ],
   "source": [
    "\n",
    "from scipy.special import erf # Import Error Function to find exact answer\n",
    "\n",
    "tol = 1e-6 # Set desired tolerance\n",
    "ans = erf(3/np.sqrt(2)) # Find Expected Answer\n",
    "error = 1 # Set Initial Error\n",
    "n = 50 # Set initial subinterval value\n",
    "\n",
    "while error > tol: # While the error is too high, proceed through loop\n",
    "    n *= 2 # Increase number of subintervals\n",
    "    result = midpoint_riemann_sum(gaussian, -3, 3, n, plot=False) # Find the new integrated value\n",
    "    error = np.abs(result - ans) # Find the new error\n",
    "    \n",
    "print(n)\n",
    "print(result, ans)"
   ]
  },
  {
   "cell_type": "code",
   "execution_count": 14,
   "metadata": {},
   "outputs": [
    {
     "name": "stdout",
     "output_type": "stream",
     "text": [
      "0.9973002039367399 0.9973002039367398\n"
     ]
    }
   ],
   "source": [
    "\n",
    "# Compare use of scipy quad function\n",
    "\n",
    "from scipy.integrate import quad\n",
    "\n",
    "print(quad(gaussian,-3,3)[0], ans)\n"
   ]
  },
  {
   "cell_type": "code",
   "execution_count": null,
   "metadata": {},
   "outputs": [],
   "source": []
  }
 ],
 "metadata": {
  "kernelspec": {
   "display_name": "Python 3 (ipykernel)",
   "language": "python",
   "name": "python3"
  },
  "language_info": {
   "codemirror_mode": {
    "name": "ipython",
    "version": 3
   },
   "file_extension": ".py",
   "mimetype": "text/x-python",
   "name": "python",
   "nbconvert_exporter": "python",
   "pygments_lexer": "ipython3",
   "version": "3.9.5"
  }
 },
 "nbformat": 4,
 "nbformat_minor": 4
}
