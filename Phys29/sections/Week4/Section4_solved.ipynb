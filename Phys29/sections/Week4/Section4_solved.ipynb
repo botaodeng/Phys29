{
 "cells": [
  {
   "cell_type": "markdown",
   "metadata": {},
   "source": [
    "<h1 style=\"font-size: 32px; text-align: center;\">Introduction to Computer Programming for the Physical Sciences</h1>\n",
    "<h2 style=\"font-size: 24px; text-align: center;\">Shane Bechtel</h2>\n",
    "<h3 style=\"font-size: 24px; text-align: center;\">Spring 2024</h2>"
   ]
  },
  {
   "cell_type": "markdown",
   "metadata": {},
   "source": [
    "## Working on Section Problems\n",
    "\n",
    "<ul style=\"list-style: none;\">\n",
    "  <li style=\"margin-bottom: 10px; font-size: 20px;\"><span style=\"display: inline-block; width: 10px; height: 10px; border: 2px solid black; margin-right: 10px;\"></span>Get into groups of 2 or 3, with at least one laptop per group.</li>\n",
    "  <li style=\"margin-bottom: 10px; font-size: 20px;\"><span style=\"display: inline-block; width: 10px; height: 10px; border: 2px solid black; margin-right: 10px;\"></span>Discuss with each other and attempt each problem yourselves first without AI support for 10-15 mins.</li>\n",
    "  <li style=\"margin-bottom: 10px; font-size: 20px;\"><span style=\"display: inline-block; width: 10px; height: 10px; border: 2px solid black; margin-right: 10px;\">\n",
    "</span>Input the problem prompt into the AI chatbox, use its answer to verify your own, or to learn how it should be solved.</li>\n",
    "  <li style=\"margin-bottom: 10px; font-size: 20px;\"><span style=\"display: inline-block; width: 10px; height: 10px; border: 2px solid black; margin-right: 10px;\">\n",
    "</span>For section problems, you can omit most of the commenting and focus on learning coding. For more difficult problems, minimal comments are still recommended as a way of organizing your own thoughts.</li>\n",
    "  <li style=\"margin-bottom: 10px; font-size: 20px;\"><span style=\"display: inline-block; width: 10px; height: 10px; border: 2px solid black; margin-right: 10px;\"></span>Please abide by the <b><a href=\"https://github.com/enigma-igm/Phys29/blob/main/using_AI_tools.md\">Policy and Guidelines on Using AI Tools</a></b></li>"
   ]
  },
  {
   "cell_type": "markdown",
   "metadata": {},
   "source": [
    "# Section 4"
   ]
  },
  {
   "cell_type": "markdown",
   "metadata": {},
   "source": [
    "## Problem 1"
   ]
  },
  {
   "cell_type": "markdown",
   "metadata": {},
   "source": [
    "1. Write a function with a for loop inside it to return the factorial of x, f (x) = x!, where x is passed in as an argument.\n",
    "\n",
    "2. Write a function using recursion to return the factorial of an argument, f (x) = x!, by implementing the recursion relation f (0) = 1, f (n) = nf (n − 1)."
   ]
  },
  {
   "cell_type": "code",
   "execution_count": 9,
   "metadata": {
    "tags": []
   },
   "outputs": [],
   "source": [
    "# your solution here\n",
    "\n",
    "# For Loop Method\n",
    "\n",
    "def fact_for(x):\n",
    "    \"\"\"\n",
    "    Calculate the factorial of x using a \"for loop\"\n",
    "\n",
    "    Parameters:\n",
    "        x - Integer for which we want to calculate the factorial; int\n",
    "\n",
    "    Output:\n",
    "        fact - Factorial of integer x; int\n",
    "    \"\"\"\n",
    "\n",
    "    # Create a variable to hold the factorial value\n",
    "    fact = 1\n",
    "\n",
    "    # Iterate through integers from 1 to x\n",
    "    for i in range(1,x+1):\n",
    "\n",
    "        # Update the factorial value with the next integer\n",
    "        fact = fact*i\n",
    "\n",
    "    return fact\n",
    "        \n",
    "\n",
    "def fact_rec(x):\n",
    "    \"\"\"\n",
    "    Calculate the factorial of x using a \"recursion loop\"\n",
    "\n",
    "    Parameters:\n",
    "        x - Integer for which we want to calculate the factorial; int\n",
    "\n",
    "    Output:\n",
    "        fact - Factorial of integer x; int\n",
    "    \"\"\"\n",
    "\n",
    "    # If x is greater than 0, iterate through the recursion loop\n",
    "    if x > 0:\n",
    "\n",
    "        # Return the value of x times this function for x-1\n",
    "        return x*fact_rec(x-1)\n",
    "\n",
    "    # If x is <= 0; then return 1. This will signify the END of the recursive loop\n",
    "    else:\n",
    "\n",
    "        return 1\n"
   ]
  },
  {
   "cell_type": "code",
   "execution_count": 10,
   "metadata": {},
   "outputs": [
    {
     "name": "stdout",
     "output_type": "stream",
     "text": [
      "5040\n",
      "5040\n",
      "5040\n"
     ]
    }
   ],
   "source": [
    "import numpy as np\n",
    "\n",
    "print(np.math.factorial(7))\n",
    "print(fact_for(7))\n",
    "print(fact_rec(7))\n"
   ]
  },
  {
   "cell_type": "markdown",
   "metadata": {},
   "source": [
    "## Problem 2"
   ]
  },
  {
   "cell_type": "markdown",
   "metadata": {},
   "source": [
    "Compute the sum of the even numbers between 2 and 100 (inclusive) four ways:\n",
    "\n",
    "• Use a for loop over the integers\n",
    "    \n",
    "• Create an array from 2 to 100 using numpy.arange() with a step size of 2, then\n",
    "sum it using numpy.sum()\n",
    "\n",
    "• Create an array from 1 to 50 using numpy.arange(), double it, and sum it\n",
    "\n",
    "• Create an array from 0 to 100 and take every second element, then sum it"
   ]
  },
  {
   "cell_type": "code",
   "execution_count": 13,
   "metadata": {
    "tags": []
   },
   "outputs": [
    {
     "name": "stdout",
     "output_type": "stream",
     "text": [
      "2550\n",
      "2550\n",
      "2550\n",
      "2550\n"
     ]
    }
   ],
   "source": [
    "# your solution here\n",
    "\n",
    "# Method 1\n",
    "\n",
    "ints = range(0,101) # Generate the set of integers\n",
    "\n",
    "even_sum_1 = 0 # Instantiate our sum variable\n",
    "\n",
    "for num in ints: # Loop over each integer\n",
    "\n",
    "    # Check if the integer is even by checking to see if the remainder of num/2 is 0; \n",
    "    # In python, % is the \"modulus\" or \"remainder\" operator\n",
    "    if num%2 == 0: \n",
    "\n",
    "        even_sum_1 += num # If even, add the number to our sum variable\n",
    "\n",
    "print(even_sum_1) # Print the final sum variable after the loop\n",
    "\n",
    "\n",
    "# Method 2\n",
    "\n",
    "# Create an \"array\" of integers from 2 to 100 with step size of 2; i.e. 2,4,6...98,100\n",
    "even_arr = np.arange(2,101,2) \n",
    "\n",
    "# Use the \"sum\" function of the array class to quickly find the sum of the entire array\n",
    "even_sum_2 = even_arr.sum() \n",
    "\n",
    "print(even_sum_2) \n",
    "\n",
    "\n",
    "# Method 3\n",
    "\n",
    "half_arr = np.arange(1,51) # Create an array of integers from 1 to 50\n",
    "\n",
    "double_arr = 2 * half_arr # Double the value of each integer in the array\n",
    "\n",
    "even_sum_3 = double_arr.sum() # Calculate the sum of the full array\n",
    "\n",
    "print(even_sum_3)\n",
    "\n",
    "\n",
    "# Method 4\n",
    "\n",
    "full_arr = np.arange(0,101) # Generate an array of integers from 0 to 100\n",
    "\n",
    "# Using indexing, select every second element from the full array and store them a new array \"sliced_arr\"\n",
    "sliced_arr = full_arr[::2] \n",
    "\n",
    "even_sum_4 = sliced_arr.sum() # Calculate the sum of the sliced_array\n",
    "\n",
    "print(even_sum_4)\n"
   ]
  },
  {
   "cell_type": "markdown",
   "metadata": {},
   "source": [
    "## Problem 3"
   ]
  },
  {
   "cell_type": "markdown",
   "metadata": {},
   "source": [
    "Generate 5 random number from a Gaussian distribution of mean 6 and standard deviation 3. (Google numpy functions and find the right ones to use)"
   ]
  },
  {
   "cell_type": "code",
   "execution_count": 18,
   "metadata": {
    "tags": []
   },
   "outputs": [
    {
     "name": "stdout",
     "output_type": "stream",
     "text": [
      "[ 7.66309063 -0.14371933  6.67291279  7.25355616  7.19520954]\n",
      "[ 6.41683628  2.20331153  4.64628304  8.47105647 -0.07910437]\n",
      "[8.34905607 3.01072706 2.58218596 8.75575826 6.84212353]\n",
      "[7.28046023 5.82299722 3.50798702 5.6027227  0.58483271]\n"
     ]
    }
   ],
   "source": [
    "# your solution here\n",
    "\n",
    "# In numpy, there is a module called \"random\" which has access to multiple methods of generating random numbers\n",
    "# The Gaussian, or Uniform, distribution can be accessed through the numpy.random.normal function\n",
    "\n",
    "# Note that loc=mean; scale=standard deviation; and size=number (or a multi-dimensional array of random numbers)\n",
    "print(np.random.normal(loc=6,scale=3,size=5))\n",
    "\n",
    "# You do not need to remember the specific parameter names, the specific order is all that is required.\n",
    "print(np.random.normal(6,3,5)) \n",
    "\n",
    "# Lastly note that we can shorten this function call by specifically importing the random module thusly:\n",
    "\n",
    "from numpy import random as rand\n",
    "\n",
    "print(rand.normal(6,3,5))\n",
    "\n",
    "# In fact, we can use this notation to import ONLY the normal function if we so desired \n",
    "# (note that in general this usually isn't your best option when writing code)\n",
    "\n",
    "from numpy.random import normal\n",
    "\n",
    "print(normal(6,3,5))\n"
   ]
  },
  {
   "cell_type": "markdown",
   "metadata": {},
   "source": [
    "## Problem 4"
   ]
  },
  {
   "cell_type": "markdown",
   "metadata": {},
   "source": [
    "This problem will give a very brief introduction to multidimensional arrays.\n",
    "\n",
    "• Using np.array, create a 3 × 3 numpy array called x with first row 0, 1, and 2; second row 3, 4, and 5; and third row 6, 7, and 8.\n",
    "\n",
    "• Do the same thing by first creating a one dimensional array of nine elements using np.arange, and then np.reshape; the new shape will be (3, 3).\n",
    "\n",
    "• How do you index the central element 4 of your 3 × 3 array x?\n",
    "\n",
    "• For multidimensional arrays, np.sum can also take an argument known as axis. Execute the following code on your 3 × 3 array x:\n",
    "```\n",
    "print(np.sum(x))\n",
    "print(np.sum(x, axis=0))\n",
    "print(np.sum(x, axis=1))\n",
    "```\n",
    "What does np.sum with no axis argument do? What are the axis=0 and axis=1 arguments doing?"
   ]
  },
  {
   "cell_type": "code",
   "execution_count": 29,
   "metadata": {
    "tags": []
   },
   "outputs": [
    {
     "name": "stdout",
     "output_type": "stream",
     "text": [
      "[[0 1 2]\n",
      " [3 4 5]\n",
      " [6 7 8]]\n",
      "[[0 1 2]\n",
      " [3 4 5]\n",
      " [6 7 8]]\n",
      "4\n"
     ]
    }
   ],
   "source": [
    "# your solution here\n",
    "\n",
    "# Method 1\n",
    "\n",
    "int_list = [[0,1,2],[3,4,5],[6,7,8]] # Generate a 3x3 list of integers from 0 to 8\n",
    "\n",
    "int_arr = np.array(int_list) # Use numpy.array to convert this list into an array\n",
    "\n",
    "print(int_arr)\n",
    "\n",
    "\n",
    "# Method 2\n",
    "\n",
    "int_arr_1d = np.arange(9) # Generate a range of integers from 0 to 8\n",
    "\n",
    "\n",
    "# Use numpy.reshape to take the 1D array and change it into a 2D array of size 3x3.\n",
    "int_arr_2d = np.reshape(int_arr_1d,(3,3)) \n",
    "\n",
    "\n",
    "# Note that the order of the elements of the 2D array is filled in the following manner: \n",
    "#\n",
    "# [0,0], [0,1], [0,2], [1,0], [1,1], [1,2], [2,0], [2,1], [2,2]\n",
    "#  ||     ||     ||     ||     ||     ||     ||     ||     ||\n",
    "#   0,     1,     2,     3,     4,     5,     6,     7,     8\n",
    "\n",
    "\n",
    "print(int_arr_2d)\n",
    "\n",
    "\n",
    "# Following the notation shown above for how the reshaping of the 1D array into a 2D array \n",
    "# assigns elements to specific indices, we see that the central value occurs in the 2nd position\n",
    "# of the 2nd array; hence index [1,1]:\n",
    "print(int_arr_2d[1,1])\n"
   ]
  },
  {
   "cell_type": "code",
   "execution_count": 30,
   "metadata": {},
   "outputs": [
    {
     "name": "stdout",
     "output_type": "stream",
     "text": [
      "36\n",
      "[ 9 12 15]\n",
      "[ 3 12 21]\n"
     ]
    }
   ],
   "source": [
    "\n",
    "\n",
    "x = int_arr_2d # Assign the 2D array to variable \"x\"\n",
    "\n",
    "print(np.sum(x)) # This use of np.sum finds the TOTAL sum of all elements in the array\n",
    "\n",
    "\n",
    "\n",
    "print(np.sum(x, axis=0)) \n",
    "# This use of np.sum finds the sum along axis=0, i.e. the first index we use [(this one), (not this one)]\n",
    "# So, given some value in the 2nd index, we find the sum of all values that contain that index.\n",
    "# In the case of that value being 0; we have the sum of [0,0], [1,0], and [2,0] for the first value.\n",
    "# In the resulting array, this value will be stored in the 0th index position result[0]\n",
    "# Practically, this example gives 9 as the three values shown above give 0+3+6=9\n",
    "\n",
    "\n",
    "\n",
    "print(np.sum(x, axis=1))\n",
    "# This example works exactly the same as the above example, only now the axis we sum along is changed.\n",
    "# So again, given index value zero, now we have the sum of [0,0], [0,1], [0,2] for the first value.\n",
    "# In the resulting array, this value will be stored in the 0th index position result[0]\n",
    "# Practically, this example gives 3 as the three values shown above give 0+1+2=3\n"
   ]
  }
 ],
 "metadata": {
  "kernelspec": {
   "display_name": "Python 3 (ipykernel)",
   "language": "python",
   "name": "python3"
  },
  "language_info": {
   "codemirror_mode": {
    "name": "ipython",
    "version": 3
   },
   "file_extension": ".py",
   "mimetype": "text/x-python",
   "name": "python",
   "nbconvert_exporter": "python",
   "pygments_lexer": "ipython3",
   "version": "3.9.5"
  }
 },
 "nbformat": 4,
 "nbformat_minor": 4
}
