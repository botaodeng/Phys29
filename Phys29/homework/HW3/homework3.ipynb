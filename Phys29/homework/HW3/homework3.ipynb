{
 "cells": [
  {
   "cell_type": "markdown",
   "metadata": {},
   "source": [
    "<h1 style=\"font-size: 32px; text-align: center;\">Introduction to Computer Programming for the Physical Sciences</h1>\n",
    "<h2 style=\"font-size: 24px; text-align: center;\">Joseph F. Hennawi</h2>\n",
    "<h3 style=\"font-size: 24px; text-align: center;\">Winter 2024</h2>"
   ]
  },
  {
   "cell_type": "markdown",
   "metadata": {},
   "source": [
    "<ul style=\"list-style: none;\">\n",
    "  <li style=\"margin-bottom: 10px; font-size: 20px;\"><span style=\"display: inline-block; width: 10px; height: 10px; border: 2px solid black; margin-right: 10px;\"></span>Open a new Jupyter notebook</li>\n",
    "  <li style=\"margin-bottom: 10px; font-size: 20px;\"><span style=\"display: inline-block; width: 10px; height: 10px; border: 2px solid black; margin-right: 10px;\"></span>Name your notebook with your name and Homework 1</li>\n",
    "  <li style=\"margin-bottom: 10px; font-size: 20px;\"><span style=\"display: inline-block; width: 10px; height: 10px; border: 2px solid black; margin-right: 10px;\"></span>Open a Markdown cell at the top and write your name and Homework 1</li>\n",
    "  <li style=\"margin-bottom: 10px; font-size: 20px;\"><span style=\"display: inline-block; width: 10px; height: 10px; border: 2px solid black; margin-right: 10px;\"></span>Open a Markdown cell before each problem and write e.g. Problem 1, Problem 2(a), etc.</li>\n",
    "  <li style=\"margin-bottom: 10px; font-size: 20px;\"><span style=\"display: inline-block; width: 10px; height: 10px; border: 2px solid black; margin-right: 10px;\"></span>Please abide by the <b><a href=\"https://github.com/enigma-igm/Phys29/blob/main/using_AI_tools.md\">Policy and Guidelines on Using AI Tools</a></b></li>\n",
    "  <li style=\"margin-bottom: 10px; font-size: 20px;\"><span style=\"display: inline-block; width: 10px; height: 10px; border: 2px solid black; margin-right: 10px;\"></span>Once you finish the problems: 1) Restart the Python kernel and clear all cell outputs. 2) Rerun the notebook from start to finish so that all answers/outputs show up. 3) Save your notebook as a single .pdf file and upload it to Gradescope on Canvas by the deadline. <b>No late homeworks will be accepted except for illness accompanied by a doctor's note.</b></li>\n",
    "</ul>"
   ]
  },
  {
   "cell_type": "markdown",
   "metadata": {},
   "source": [
    "# Homework 3\n",
    "\n",
    "## Problem 1: Working with Python Data Containers\n",
    "You are tasked with developing a program to manage information on business trips made by employees to various cities where your company has offices. Unfortunately, your company did not adopt a uniform method for recording this information, so you have to first develop a program that can convert the hybrid data into a homogenous format.  Specifically, the business trip data is a python list containing a combination of dictionaries and tuples, where each dictionary or tuple represents information about a specific trip. The relevant data are the employee's name, destination city, round-trip mileage, and the date of the trip. The dictionaries contain the information in key-value pairs (i.e. name, destination, mileage, date), while the tuple contains the same information ordered sequentially (i.e. tuple_data = (name, destination, mileage, date)). The employee data is given in the code cell below:"
   ]
  },
  {
   "cell_type": "code",
   "execution_count": 32,
   "metadata": {},
   "outputs": [],
   "source": [
    "import numpy as np"
   ]
  },
  {
   "cell_type": "code",
   "execution_count": 33,
   "metadata": {},
   "outputs": [],
   "source": [
    "trips = [\n",
    "    {'name': 'Alice', 'destination': 'New York', 'mileage': 200.0, 'date': '2022-01-01'},\n",
    "    ('Bob', 'Chicago', 300, '2022-02-01'),\n",
    "    {'name': 'Charlie', 'destination': 'Los Angeles', 'mileage': 400, 'date': '2022-03-01'},\n",
    "    ('David', 'San Francisco', 500.0, '2022-04-01'),\n",
    "    {'name': 'Eve', 'destination': 'Seattle', 'mileage': 620, 'date': '2022-05-01'},\n",
    "    ('Frank', 'Boston', 705, '2022-06-01'),\n",
    "    {'name': 'Grace', 'destination': 'Denver', 'mileage': 810, 'date': '2022-07-01'},\n",
    "    ('Henry', 'Austin', 911, '2022-08-01'),\n",
    "    {'name': 'Ivy', 'destination': 'Atlanta', 'mileage': 1000.0, 'date': '2022-09-01'},\n",
    "    ('Jack', 'Miami', 1112.0, '2022-10-01'),\n",
    "    {'name': 'Kate', 'destination': 'Dallas', 'mileage': 1200.0, 'date': '2022-11-01'},\n",
    "    ('Liam', 'Houston', 134, '2022-12-01'),\n",
    "    {'name': 'Mia', 'destination': 'Phoenix', 'mileage': 1400.0, 'date': '2023-01-01'},\n",
    "    ('Noah', 'Las Vegas', 1526.0, '2023-02-01'),\n",
    "    {'name': 'Olivia', 'destination': 'San Diego', 'mileage': 1600.0, 'date': '2023-03-01'},\n",
    "    ('Peter', 'Portland', 1700, '2023-04-01'), \n",
    "    ('Alice', 'Boston', 1322.0, '2023-01-01'),\n",
    "    ('Bob', 'Los Angeles', 400, '2023-02-01'),\n",
    "    {'name': 'Charlie', 'destination': 'Chicago', 'mileage': 500, 'date': '2023-03-01'},\n",
    "    ('David', 'Miami', 600.0, '2023-04-01'),\n",
    "    {'name': 'Eve', 'destination': 'Dallas', 'mileage': 700.0, 'date': '2023-05-01'},\n",
    "    ('Frank', 'Houston', 800, '2023-06-01'),\n",
    "    {'name': 'Grace', 'destination': 'Phoenix', 'mileage': 900.0, 'date': '2023-07-01'},\n",
    "    ('Henry', 'Las Vegas', 1000, '2023-08-01'),\n",
    "    {'name': 'Ivy', 'destination': 'San Diego', 'mileage': 1100.0, 'date': '2023-09-01'},\n",
    "    ('Jack', 'Portland', 1200, '2023-10-01'),\n",
    "    {'name': 'Kate', 'destination': 'New York', 'mileage': 1300.0, 'date': '2023-11-01'},\n",
    "    ('Liam', 'Austin', 1400, '2023-12-01'),\n",
    "    {'name': 'Mia', 'destination': 'Denver', 'mileage': 1500.0, 'date': '2024-01-01'},\n",
    "    ('Noah', 'Atlanta', 1600, '2024-02-01'),\n",
    "    {'name': 'Olivia', 'destination': 'Seattle', 'mileage': 1700.0, 'date': '2024-03-01'},\n",
    "    ('Peter', 'San Francisco', 1800, '2024-04-01'), \n",
    "    {'name': 'Alice', 'destination': 'Los Angeles', 'mileage': 210.0, 'date': '2022-02-01'},\n",
    "    ('Alice', 'Boston', 3000.0, '2023-05-01'),\n",
    "    ('Bob', 'San Francisco', 310, '2022-03-01'),\n",
    "    {'name': 'Charlie', 'destination': 'Seattle', 'mileage': 410, 'date': '2022-04-01'},\n",
    "    ('David', 'Boston', 510.0, '2022-05-01'),\n",
    "    {'name': 'Eve', 'destination': 'Denver', 'mileage': 630, 'date': '2022-06-01'},\n",
    "    ('Frank', 'Austin', 715, '2022-07-01'),\n",
    "    {'name': 'Grace', 'destination': 'Atlanta', 'mileage': 820, 'date': '2022-08-01'},\n",
    "    ('Henry', 'Miami', 921, '2022-09-01'),\n",
    "    {'name': 'Ivy', 'destination': 'Dallas', 'mileage': 1010.0, 'date': '2022-10-01'},\n",
    "    ('Jack', 'Houston', 1122.0, '2022-11-01'),\n",
    "    {'name': 'Kate', 'destination': 'Phoenix', 'mileage': 1210.0, 'date': '2022-12-01'},\n",
    "    ('Liam', 'Las Vegas', 144, '2023-01-01'),\n",
    "    {'name': 'Mia', 'destination': 'San Diego', 'mileage': 1410.0, 'date': '2023-02-01'},\n",
    "    ('Noah', 'Portland', 1536.0, '2023-03-01'),\n",
    "    {'name': 'Olivia', 'destination': 'San Francisco', 'mileage': 1610.0, 'date': '2023-04-01'},\n",
    "    ('Peter', 'New York', 1710, '2023-05-01'), \n",
    "    {'name': 'Anne', 'destination': 'Seattle', 'mileage': 220.0, 'date': '2022-03-01'},\n",
    "    ('Gerald', 'Boston', 320, '2022-04-01'),\n",
    "    {'name': 'Charlie', 'destination': 'Denver', 'mileage': 420, 'date': '2022-05-01'},\n",
    "    ('Dirk', 'Austin', 520.0, '2022-06-01'),\n",
    "    {'name': 'Eve', 'destination': 'Atlanta', 'mileage': 640, 'date': '2022-07-01'},\n",
    "    ('Joe', 'Miami', 725, '2022-08-01'),\n",
    "    {'name': 'Grace', 'destination': 'Dallas', 'mileage': 830, 'date': '2022-09-01'},\n",
    "    ('Dirk', 'Houston', 931, '2022-10-01'),\n",
    "    {'name': 'Ivy', 'destination': 'Phoenix', 'mileage': 1020.0, 'date': '2022-11-01'},\n",
    "    ('Henry', 'Las Vegas', 1132.0, '2022-12-01'),\n",
    "    {'name': 'Kate', 'destination': 'San Diego', 'mileage': 1220.0, 'date': '2023-01-01'},\n",
    "    ('Alison', 'Portland', 154, '2023-02-01'),\n",
    "    {'name': 'Mia', 'destination': 'San Francisco', 'mileage': 1420.0, 'date': '2023-03-01'},\n",
    "    ('Noah', 'New York', 1546.0, '2023-04-01'),\n",
    "    {'name': 'Olivia', 'destination': 'Los Angeles', 'mileage': 1620.0, 'date': '2023-05-01'},\n",
    "    ('Peter', 'Chicago', 1720, '2023-06-01')\n",
    "]\n"
   ]
  },
  {
   "cell_type": "markdown",
   "metadata": {},
   "source": [
    "**a)**  Write a function called `convert_trips` to convert the trip data into a homogenouse format with behavior that follows the documentation string below: \n",
    "```python \n",
    "\n",
    "def convert_trips(trips):\n",
    "    \"\"\"\n",
    "    Convert a list of trips containing dictionaries and tuples to a list of dictionaries.\n",
    "\n",
    "    Parameters\n",
    "    ----------\n",
    "    trips : list\n",
    "        Trip database containing dictionaries and tuples, where each dictionary or tuple\n",
    "        represents information about a specific trip.\n",
    "\n",
    "    Returns\n",
    "    -------\n",
    "    output_list: list of dicts \n",
    "        Trip database as a list of dictionaries. \n",
    "\n",
    "    \"\"\"\n",
    "```\n",
    "\n",
    "Test your function by performing a loop over each trip in the `output_list` and printing the trip\n",
    "data (i.e. the dictionary) to the screen. "
   ]
  },
  {
   "cell_type": "code",
   "execution_count": 34,
   "metadata": {},
   "outputs": [
    {
     "name": "stdout",
     "output_type": "stream",
     "text": [
      "[{'name': 'Alice', 'destination': 'New York', 'mileage': 200.0, 'date': '2022-01-01'}, {'name': 'Bob', 'destination': 'Chicago', 'mileage': 300, 'date': '2022-02-01'}, {'name': 'Charlie', 'destination': 'Los Angeles', 'mileage': 400, 'date': '2022-03-01'}, {'name': 'David', 'destination': 'San Francisco', 'mileage': 500.0, 'date': '2022-04-01'}, {'name': 'Eve', 'destination': 'Seattle', 'mileage': 620, 'date': '2022-05-01'}, {'name': 'Frank', 'destination': 'Boston', 'mileage': 705, 'date': '2022-06-01'}, {'name': 'Grace', 'destination': 'Denver', 'mileage': 810, 'date': '2022-07-01'}, {'name': 'Henry', 'destination': 'Austin', 'mileage': 911, 'date': '2022-08-01'}, {'name': 'Ivy', 'destination': 'Atlanta', 'mileage': 1000.0, 'date': '2022-09-01'}, {'name': 'Jack', 'destination': 'Miami', 'mileage': 1112.0, 'date': '2022-10-01'}, {'name': 'Kate', 'destination': 'Dallas', 'mileage': 1200.0, 'date': '2022-11-01'}, {'name': 'Liam', 'destination': 'Houston', 'mileage': 134, 'date': '2022-12-01'}, {'name': 'Mia', 'destination': 'Phoenix', 'mileage': 1400.0, 'date': '2023-01-01'}, {'name': 'Noah', 'destination': 'Las Vegas', 'mileage': 1526.0, 'date': '2023-02-01'}, {'name': 'Olivia', 'destination': 'San Diego', 'mileage': 1600.0, 'date': '2023-03-01'}, {'name': 'Peter', 'destination': 'Portland', 'mileage': 1700, 'date': '2023-04-01'}, {'name': 'Alice', 'destination': 'Boston', 'mileage': 1322.0, 'date': '2023-01-01'}, {'name': 'Bob', 'destination': 'Los Angeles', 'mileage': 400, 'date': '2023-02-01'}, {'name': 'Charlie', 'destination': 'Chicago', 'mileage': 500, 'date': '2023-03-01'}, {'name': 'David', 'destination': 'Miami', 'mileage': 600.0, 'date': '2023-04-01'}, {'name': 'Eve', 'destination': 'Dallas', 'mileage': 700.0, 'date': '2023-05-01'}, {'name': 'Frank', 'destination': 'Houston', 'mileage': 800, 'date': '2023-06-01'}, {'name': 'Grace', 'destination': 'Phoenix', 'mileage': 900.0, 'date': '2023-07-01'}, {'name': 'Henry', 'destination': 'Las Vegas', 'mileage': 1000, 'date': '2023-08-01'}, {'name': 'Ivy', 'destination': 'San Diego', 'mileage': 1100.0, 'date': '2023-09-01'}, {'name': 'Jack', 'destination': 'Portland', 'mileage': 1200, 'date': '2023-10-01'}, {'name': 'Kate', 'destination': 'New York', 'mileage': 1300.0, 'date': '2023-11-01'}, {'name': 'Liam', 'destination': 'Austin', 'mileage': 1400, 'date': '2023-12-01'}, {'name': 'Mia', 'destination': 'Denver', 'mileage': 1500.0, 'date': '2024-01-01'}, {'name': 'Noah', 'destination': 'Atlanta', 'mileage': 1600, 'date': '2024-02-01'}, {'name': 'Olivia', 'destination': 'Seattle', 'mileage': 1700.0, 'date': '2024-03-01'}, {'name': 'Peter', 'destination': 'San Francisco', 'mileage': 1800, 'date': '2024-04-01'}, {'name': 'Alice', 'destination': 'Los Angeles', 'mileage': 210.0, 'date': '2022-02-01'}, {'name': 'Alice', 'destination': 'Boston', 'mileage': 3000.0, 'date': '2023-05-01'}, {'name': 'Bob', 'destination': 'San Francisco', 'mileage': 310, 'date': '2022-03-01'}, {'name': 'Charlie', 'destination': 'Seattle', 'mileage': 410, 'date': '2022-04-01'}, {'name': 'David', 'destination': 'Boston', 'mileage': 510.0, 'date': '2022-05-01'}, {'name': 'Eve', 'destination': 'Denver', 'mileage': 630, 'date': '2022-06-01'}, {'name': 'Frank', 'destination': 'Austin', 'mileage': 715, 'date': '2022-07-01'}, {'name': 'Grace', 'destination': 'Atlanta', 'mileage': 820, 'date': '2022-08-01'}, {'name': 'Henry', 'destination': 'Miami', 'mileage': 921, 'date': '2022-09-01'}, {'name': 'Ivy', 'destination': 'Dallas', 'mileage': 1010.0, 'date': '2022-10-01'}, {'name': 'Jack', 'destination': 'Houston', 'mileage': 1122.0, 'date': '2022-11-01'}, {'name': 'Kate', 'destination': 'Phoenix', 'mileage': 1210.0, 'date': '2022-12-01'}, {'name': 'Liam', 'destination': 'Las Vegas', 'mileage': 144, 'date': '2023-01-01'}, {'name': 'Mia', 'destination': 'San Diego', 'mileage': 1410.0, 'date': '2023-02-01'}, {'name': 'Noah', 'destination': 'Portland', 'mileage': 1536.0, 'date': '2023-03-01'}, {'name': 'Olivia', 'destination': 'San Francisco', 'mileage': 1610.0, 'date': '2023-04-01'}, {'name': 'Peter', 'destination': 'New York', 'mileage': 1710, 'date': '2023-05-01'}, {'name': 'Anne', 'destination': 'Seattle', 'mileage': 220.0, 'date': '2022-03-01'}, {'name': 'Gerald', 'destination': 'Boston', 'mileage': 320, 'date': '2022-04-01'}, {'name': 'Charlie', 'destination': 'Denver', 'mileage': 420, 'date': '2022-05-01'}, {'name': 'Dirk', 'destination': 'Austin', 'mileage': 520.0, 'date': '2022-06-01'}, {'name': 'Eve', 'destination': 'Atlanta', 'mileage': 640, 'date': '2022-07-01'}, {'name': 'Joe', 'destination': 'Miami', 'mileage': 725, 'date': '2022-08-01'}, {'name': 'Grace', 'destination': 'Dallas', 'mileage': 830, 'date': '2022-09-01'}, {'name': 'Dirk', 'destination': 'Houston', 'mileage': 931, 'date': '2022-10-01'}, {'name': 'Ivy', 'destination': 'Phoenix', 'mileage': 1020.0, 'date': '2022-11-01'}, {'name': 'Henry', 'destination': 'Las Vegas', 'mileage': 1132.0, 'date': '2022-12-01'}, {'name': 'Kate', 'destination': 'San Diego', 'mileage': 1220.0, 'date': '2023-01-01'}, {'name': 'Alison', 'destination': 'Portland', 'mileage': 154, 'date': '2023-02-01'}, {'name': 'Mia', 'destination': 'San Francisco', 'mileage': 1420.0, 'date': '2023-03-01'}, {'name': 'Noah', 'destination': 'New York', 'mileage': 1546.0, 'date': '2023-04-01'}, {'name': 'Olivia', 'destination': 'Los Angeles', 'mileage': 1620.0, 'date': '2023-05-01'}, {'name': 'Peter', 'destination': 'Chicago', 'mileage': 1720, 'date': '2023-06-01'}]\n"
     ]
    }
   ],
   "source": [
    "# problem 1\n",
    "# a)\n",
    "def convert_trips(trips, append_new=None, filter_dict=None, display=False):\n",
    "    \"\"\"\n",
    "    Convert a list of trips containing dictionaries and tuples to a list of dictionaries.\n",
    "\n",
    "    Parameters\n",
    "    ----------\n",
    "    trips : list\n",
    "        Trip database containing dictionaries and tuples, where each dictionary or tuple\n",
    "        represents information about a specific trip.\n",
    "\n",
    "    Returns\n",
    "    -------\n",
    "    output_list: list of dicts \n",
    "        Trip database as a list of dictionaries. \n",
    "\n",
    "    \"\"\"\n",
    "    output_list = [0 for _ in range(len(trips))]\n",
    "    # set up a list with proper lentgh for future operation\n",
    "    for i in range(len(trips)):\n",
    "        # going through each element of trips\n",
    "        if(type(trips[i]) == tuple):\n",
    "            # find out if the element is a tuple type, if it is, converted it into a dictionary\n",
    "            output_list[i] = {'name':trips[i][0],'destination': trips[i][1], 'mileage': trips[i][2], 'date': trips[i][3]}\n",
    "        else:\n",
    "            # if the element is not tuple, which has to be dictionary, just copy it to the outputlist\n",
    "            output_list[i] = trips[i]\n",
    "    return output_list\n",
    "\n",
    "converted_trips = convert_trips(trips)\n",
    "print(converted_trips)"
   ]
  },
  {
   "cell_type": "markdown",
   "metadata": {},
   "source": [
    "**b)** Write a function called `query_trips` consistent with the behavior in the following documentation string.\n",
    "```python \n",
    "\n",
    "def query_trips(trips, filter_dict):\n",
    "    \"\"\"\n",
    "    Manage business trip data.\n",
    "\n",
    "    Parameters\n",
    "    ----------\n",
    "    trips : list\n",
    "        Trip database containing a list of dictionaries with information about each trip.\n",
    "    filter_dict : dict, optional\n",
    "        If provided, return the list of trips that match the key-value pairs in\n",
    "        this dictionary. The allowed keys in the dictionary are 'name',\n",
    "        'destination', and 'date'. Multiple keys can be provided. \n",
    "    \n",
    "    Returns\n",
    "    -------\n",
    "    output_list: list of dicts \n",
    "        List of trips that match the input parameters. \n",
    "\n",
    "    Examples\n",
    "    --------\n",
    "    >>> filter_dict = {'name': 'Alice', 'destination': 'Boston'}\n",
    "    >>> alice_trips = manage_trips(trips, filter_dict))\n",
    "    Returns the list: \n",
    "\n",
    "    alice_trips = [{'name': 'Alice', 'destination': 'Boston', 'mileage': 1322.0, 'date': '2023-01-01'},\n",
    "                   {'name': 'Alice', 'destination': 'Boston', 'mileage': 3000.0, 'date': '2023-05-01'}]\n",
    "    \"\"\"\n",
    "```\n",
    "\n",
    "\n",
    "Note: Make sure that if multiple trip parameters (name, destination, date) are provided in filter_dict, the output is a list of trips that match ALL of those parameters.\n",
    "\n",
    "\n",
    "Test your code on the following example usage cases:\n",
    "\n",
    "```python\n",
    "\n",
    "# Test filtering trips by destination, should print trips to New York\n",
    "filter_dict = {'destination': 'New York'}\n",
    "filtered_trips = query_trips(converted_trips, filter_dict)\n",
    "\n",
    "# Test filtering trips by name, should print trips by Noah\n",
    "filter_dict = {'name': 'Noah'}\n",
    "filtered_trips = query_trips(converted_trips, filter_dict)\n",
    "\n",
    "# Test filtering trips by date, should print trips on 2023-04-01\n",
    "filter_dict = {'date': '2023-04-01'}\n",
    "filtered_trips = query_trips(converted_trips, filter_dict)\n",
    "\n",
    "# Test filtering trips by name and destination, should print trips by Alice to New York\n",
    "filter_dict = {'name': 'Alice', 'destination': 'New York'}\n",
    "filtered_trips = query_trips(converted_trips, filter_dict)\n",
    "\n",
    "```\n",
    "For each of these test, put the code in a separate code cell, and loop over each trip in `filtered_trips` and print the trip\n",
    "data (i.e. the dictionary) to the screen. "
   ]
  },
  {
   "cell_type": "code",
   "execution_count": 35,
   "metadata": {},
   "outputs": [
    {
     "name": "stdout",
     "output_type": "stream",
     "text": [
      "[{'name': 'Alice', 'destination': 'Boston', 'mileage': 1322.0, 'date': '2023-01-01'}, {'name': 'Alice', 'destination': 'Boston', 'mileage': 3000.0, 'date': '2023-05-01'}]\n"
     ]
    }
   ],
   "source": [
    "# b)\n",
    "def query_trips(trips, filter_dict):\n",
    "    \"\"\"\n",
    "    Manage business trip data.\n",
    "\n",
    "    Parameters\n",
    "    ----------\n",
    "    trips : list\n",
    "        Trip database containing a list of dictionaries with information about each trip.\n",
    "    filter_dict : dict, optional\n",
    "        If provided, return the list of trips that match the key-value pairs in\n",
    "        this dictionary. The allowed keys in the dictionary are 'name',\n",
    "        'destination', and 'date'. Multiple keys can be provided. \n",
    "    \n",
    "    Returns\n",
    "    -------\n",
    "    output_list: list of dicts \n",
    "        List of trips that match the input parameters. \n",
    "\n",
    "    Examples\n",
    "    --------\n",
    "    >>> filter_dict = {'name': 'Alice', 'destination': 'Boston'}\n",
    "    >>> alice_trips = manage_trips(trips, filter_dict))\n",
    "    Returns the list: \n",
    "\n",
    "    alice_trips = [{'name': 'Alice', 'destination': 'Boston', 'mileage': 1322.0, 'date': '2023-01-01'},\n",
    "                   {'name': 'Alice', 'destination': 'Boston', 'mileage': 3000.0, 'date': '2023-05-01'}]\n",
    "    \"\"\"\n",
    "    output_list = []\n",
    "    # set up an empty list for operation\n",
    "    for i in range(len(trips)):\n",
    "        # going through all the elements in trips\n",
    "        output_list.append(trips[i])\n",
    "        # add this element of tips to the outputlist\n",
    "        for j in filter_dict.keys():\n",
    "            # gonging through the elements that we have to check\n",
    "            if(trips[i][j] != filter_dict[j]):\n",
    "                # find out if the element we want is in the element of trips\n",
    "                output_list.remove(trips[i])\n",
    "                # remove the element from output_list if it is not in the filter_dict\n",
    "                break\n",
    "                # stop the cycle, since there is no need to check if other senario is matched\n",
    "    \n",
    "    return output_list\n",
    "\n",
    "\n",
    "filter_dict = {'name': 'Alice','destination': 'Boston'}\n",
    "alice_trips = query_trips(converted_trips,filter_dict)\n",
    "print(alice_trips)"
   ]
  },
  {
   "cell_type": "code",
   "execution_count": 36,
   "metadata": {},
   "outputs": [
    {
     "name": "stdout",
     "output_type": "stream",
     "text": [
      "[{'name': 'Alice', 'destination': 'New York', 'mileage': 200.0, 'date': '2022-01-01'}, {'name': 'Kate', 'destination': 'New York', 'mileage': 1300.0, 'date': '2023-11-01'}, {'name': 'Peter', 'destination': 'New York', 'mileage': 1710, 'date': '2023-05-01'}, {'name': 'Noah', 'destination': 'New York', 'mileage': 1546.0, 'date': '2023-04-01'}]\n"
     ]
    }
   ],
   "source": [
    "# Test filtering trips by destination, should print trips to New York\n",
    "filter_dict = {'destination': 'New York'}\n",
    "filtered_trips = query_trips(converted_trips, filter_dict)\n",
    "print(filtered_trips)"
   ]
  },
  {
   "cell_type": "code",
   "execution_count": 37,
   "metadata": {},
   "outputs": [
    {
     "name": "stdout",
     "output_type": "stream",
     "text": [
      "[{'name': 'Noah', 'destination': 'Las Vegas', 'mileage': 1526.0, 'date': '2023-02-01'}, {'name': 'Noah', 'destination': 'Atlanta', 'mileage': 1600, 'date': '2024-02-01'}, {'name': 'Noah', 'destination': 'Portland', 'mileage': 1536.0, 'date': '2023-03-01'}, {'name': 'Noah', 'destination': 'New York', 'mileage': 1546.0, 'date': '2023-04-01'}]\n"
     ]
    }
   ],
   "source": [
    "# Test filtering trips by name, should print trips by Noah\n",
    "filter_dict = {'name': 'Noah'}\n",
    "filtered_trips = query_trips(converted_trips, filter_dict)\n",
    "print(filtered_trips)"
   ]
  },
  {
   "cell_type": "code",
   "execution_count": 38,
   "metadata": {},
   "outputs": [
    {
     "name": "stdout",
     "output_type": "stream",
     "text": [
      "[{'name': 'Peter', 'destination': 'Portland', 'mileage': 1700, 'date': '2023-04-01'}, {'name': 'David', 'destination': 'Miami', 'mileage': 600.0, 'date': '2023-04-01'}, {'name': 'Olivia', 'destination': 'San Francisco', 'mileage': 1610.0, 'date': '2023-04-01'}, {'name': 'Noah', 'destination': 'New York', 'mileage': 1546.0, 'date': '2023-04-01'}]\n"
     ]
    }
   ],
   "source": [
    "# Test filtering trips by date, should print trips on 2023-04-01\n",
    "filter_dict = {'date': '2023-04-01'}\n",
    "filtered_trips = query_trips(converted_trips, filter_dict)\n",
    "print(filtered_trips)"
   ]
  },
  {
   "cell_type": "code",
   "execution_count": 39,
   "metadata": {},
   "outputs": [
    {
     "name": "stdout",
     "output_type": "stream",
     "text": [
      "[{'name': 'Alice', 'destination': 'New York', 'mileage': 200.0, 'date': '2022-01-01'}]\n"
     ]
    }
   ],
   "source": [
    "# Test filtering trips by name and destination, should print trips by Alice to New York\n",
    "filter_dict = {'name': 'Alice', 'destination': 'New York'}\n",
    "filtered_trips = query_trips(converted_trips, filter_dict)\n",
    "print(filtered_trips)"
   ]
  },
  {
   "cell_type": "markdown",
   "metadata": {},
   "source": [
    "## Problem 2: The Fibonacci Sequence\n",
    "\n",
    "The Fibonacci sequence begins\n",
    "$$\n",
    "0,\\,\\,\n",
    "1,\\,\\,\n",
    "1,\\,\\,\n",
    "2,\\,\\,\n",
    "3,\\,\\,\n",
    "5,\\,\\,\n",
    "8,\\,\\,\n",
    "13,\\,\\,\n",
    "21,\\,\\,\n",
    "34,\\,\\,\n",
    "55,\n",
    "$$\n",
    "and is defined by the recursion relation\n",
    "$$\n",
    "x_{n+1}=x_n+x_{n-1}\n",
    "$$\n",
    "with $x_0\\equiv0$ and $x_1\\equiv1$.  Write Python code to determine the largest Fibonacci number less than $10^6$?\n"
   ]
  },
  {
   "cell_type": "code",
   "execution_count": 40,
   "metadata": {},
   "outputs": [
    {
     "name": "stdout",
     "output_type": "stream",
     "text": [
      "832040\n"
     ]
    }
   ],
   "source": [
    "# problem 2\n",
    "xn_small=0 # x0\n",
    "xn=1 # x1\n",
    "# set up initial value for the fibonacci number\n",
    "xn_large = xn +xn_small # x2\n",
    "\n",
    "while (xn_large< 10**6):\n",
    "    # if the next number in Fibonacci number is less than 1e6, keep working on it\n",
    "    xn_small = xn \n",
    "    xn = xn_large\n",
    "    # since we only need 2 numbers before the number we need to calculate in order to get the result, we can only keep the largest 2 numbers in the Fibonacci number.\n",
    "    # we are also saving a lot space by doing this. \n",
    "    # in the while, xn_small represent x(n-1) inthe formula and xn represent xn in the formular\n",
    "    xn_large = xn + xn_small\n",
    "    # xn_large is represent x(n+1) in the formula\n",
    "    # we only need to add xn and x(n-1) to get x(n+1)\n",
    "\n",
    "print(xn)\n",
    "# since when the loop is break xn_large is the smallest number in Fibonacci which is greatere than 1e6\n",
    "# xn should be the largest number in Fibonacci which is smaller than 1e6"
   ]
  },
  {
   "cell_type": "markdown",
   "metadata": {},
   "source": [
    "## Problem 3: Higher Order Derivatives\n",
    "We can represent the $n^{\\rm th}$ derivative of $f(x)$ as $f^{(n)}(x)$ where $f^0(x) \\equiv f(x)$, $f^1(x) \\equiv f^\\prime(x)$, $f^2(x) \\equiv f^{\\prime\\prime}(x)$, etc. \n",
    "\n",
    "Last week we learned how to compute numerical derivatives of a function $f(x)$, and found that the symmetric difference formula\n",
    "$$\n",
    "f^\\prime(x) \\approx \\frac{f(x+h)-f(x-h)}{2h}\n",
    "$$\n",
    "performs significantly better than the forward difference formula.  \n",
    "\n",
    "As discussed at the end of the Week3 lecture notes, recursive functions are Python functions that call themselves.  \n",
    "\n",
    "**a)**  Code up a **recursive** Python function to compute the $n^{\\rm th}$ derivative of the function $f(x)$ using the symmetric difference formula and the recursion relation\n",
    "$$\n",
    "f^{(n)}(x) \\approx \\frac{f^{(n-1)}(x+h)-f^{(n-1)}(x-h)}{2h}\n",
    "$$\n",
    "Your function should be consistent with the following documentation string:\n",
    "\n",
    "```python\n",
    "\n",
    "def deriv(f, x, n, h=1e-2):\n",
    "    \"\"\"\n",
    "    Compute the nth derivative of a function f(x) using the symmetric difference formula.\n",
    "\n",
    "    Parameters\n",
    "    ----------\n",
    "    f : function\n",
    "        Function to take the derivative of.\n",
    "    x : float\n",
    "        Point at which to evaluate the derivative.\n",
    "    n : int\n",
    "        Order of the derivative.\n",
    "    h : float, optional\n",
    "        Step size. The default is 1e-2.\n",
    "\n",
    "    Returns\n",
    "    -------\n",
    "    f^(n)(x): float\n",
    "        The nth derivative of f(x) evaluated at x.\n",
    "\n",
    "    \"\"\"\n",
    "```\n",
    "**b)**  Test your function by computing the derivatives of $e^x$ at $x=1$ for $n=0,1,2,3,4, ... 10$ and compare to the analytic result. Print our your results to 16 decimal places. You can use the numpy function ```np.exp()``` to compute $e^x$.\n",
    "\n",
    "**c)** Up to what order of the derivative $n$ can you compute before you start getting numerical errors? \n",
    "\n",
    "**d)** In your own words, what do you think is the source of these errors? Why do they set in at large values of $n$? "
   ]
  },
  {
   "cell_type": "code",
   "execution_count": 44,
   "metadata": {},
   "outputs": [
    {
     "name": "stdout",
     "output_type": "stream",
     "text": [
      "2.718281828459045\n",
      "2.718327133382714\n",
      "2.7183724390611452\n",
      "2.7184177454619984\n",
      "2.7184630602139492\n",
      "2.7185087514425277\n",
      "2.7184643425215427\n",
      "2.7144952952085077\n",
      "3.660266534311063\n",
      "44.23544863740858\n",
      "-9540.979117872439\n"
     ]
    }
   ],
   "source": [
    "# problem 3\n",
    "# a)\n",
    "def deriv(f, x, n, h=1e-2):\n",
    "    \"\"\"\n",
    "    Compute the nth derivative of a function f(x) using the symmetric difference formula.\n",
    "\n",
    "    Parameters\n",
    "    ----------\n",
    "    f : function\n",
    "        Function to take the derivative of.\n",
    "    x : float\n",
    "        Point at which to evaluate the derivative.\n",
    "    n : int\n",
    "        Order of the derivative.\n",
    "    h : float, optional\n",
    "        Step size. The default is 1e-2.\n",
    "\n",
    "    Returns\n",
    "    -------\n",
    "    f^(n)(x): float\n",
    "        The nth derivative of f(x) evaluated at x.\n",
    "    \"\"\"\n",
    "    if(n==0):\n",
    "        return f(x)\n",
    "    if(n==1):\n",
    "        return (f(x+h)-f(x-h))/(2*h)\n",
    "    return (deriv(f,x+h,n-1,h)-deriv(f,x-h,n-1,h))/(2*h)\n",
    "\n",
    "# b)\n",
    "for i in range(11):\n",
    "    print(deriv(np.exp,1.0,i,))"
   ]
  },
  {
   "cell_type": "markdown",
   "metadata": {},
   "source": [
    "b) continues:\n",
    "\n",
    "the derivative of $e^x$ should alawys be $e^x$ no matter how many times of derivative are taken.\n",
    "Thus, all the results should be e. However, some of them shown on screen does not.\n",
    "\n",
    "#### c)\n",
    "\n",
    "starting from order 8 the result start to be far away from e, which is the analitical result.\n",
    "\n",
    "#### d)\n",
    "\n",
    "I think the source of the error may come from the limit of flaot numbers. Since h is 1e-2, when the order gets higher, the np.exp() may result in such a small number that float is no longer accurate enough. Than things will go wrong."
   ]
  }
 ],
 "metadata": {
  "kernelspec": {
   "display_name": "Python 3 (ipykernel)",
   "language": "python",
   "name": "python3"
  },
  "language_info": {
   "codemirror_mode": {
    "name": "ipython",
    "version": 3
   },
   "file_extension": ".py",
   "mimetype": "text/x-python",
   "name": "python",
   "nbconvert_exporter": "python",
   "pygments_lexer": "ipython3",
   "version": "3.11.8"
  }
 },
 "nbformat": 4,
 "nbformat_minor": 4
}
