{
 "cells": [
  {
   "cell_type": "markdown",
   "metadata": {},
   "source": [
    "<h1 style=\"font-size: 32px; text-align: center;\">Introduction to Computer Programming for the Physical Sciences</h1>\n",
    "<h2 style=\"font-size: 24px; text-align: center;\">Joseph F. Hennawi</h2>\n",
    "<h3 style=\"font-size: 24px; text-align: center;\">Spring 2024</h2>"
   ]
  },
  {
   "cell_type": "markdown",
   "metadata": {},
   "source": [
    "<ul style=\"list-style: none;\">\n",
    "  <li style=\"margin-bottom: 10px; font-size: 20px;\"><span style=\"display: inline-block; width: 10px; height: 10px; border: 2px solid black; margin-right: 10px;\"></span>Open a new Jupyter notebook</li>\n",
    "  <li style=\"margin-bottom: 10px; font-size: 20px;\"><span style=\"display: inline-block; width: 10px; height: 10px; border: 2px solid black; margin-right: 10px;\"></span>Name your notebook with your name and Homework 1</li>\n",
    "  <li style=\"margin-bottom: 10px; font-size: 20px;\"><span style=\"display: inline-block; width: 10px; height: 10px; border: 2px solid black; margin-right: 10px;\"></span>Open a Markdown cell at the top and write your name and Homework 1</li>\n",
    "  <li style=\"margin-bottom: 10px; font-size: 20px;\"><span style=\"display: inline-block; width: 10px; height: 10px; border: 2px solid black; margin-right: 10px;\"></span>Open a Markdown cell before each problem and write e.g. Problem 1, Problem 2(a), etc.</li>\n",
    "  <li style=\"margin-bottom: 10px; font-size: 20px;\"><span style=\"display: inline-block; width: 10px; height: 10px; border: 2px solid black; margin-right: 10px;\"></span>Please abide by the <b><a href=\"https://github.com/enigma-igm/Phys29/blob/main/using_AI_tools.md\">Policy and Guidelines on Using AI Tools</a></b></li>\n",
    "  <li style=\"margin-bottom: 10px; font-size: 20px;\"><span style=\"display: inline-block; width: 10px; height: 10px; border: 2px solid black; margin-right: 10px;\"></span>Once you finish the problems: 1) Restart the Python kernel and clear all cell outputs. 2) Rerun the notebook from start to finish so that all answers/outputs show up. 3) Save your notebook as a single .pdf file and upload it to Gradescope on Canvas by the deadline. <b>No late homeworks will be accepted except for illness accompanied by a doctor's note.</b></li>\n",
    "  <li style=\"margin-bottom: 10px; font-size: 20px;\"><span style=\"display: inline-block; width: 10px; height: 10px; border: 2px solid black; margin-right: 10px;\"></span> For parts of problems that require analytical solutions you can perform your calculations using a pencil and paper. Then  photograph your work and convert the photograph to a .pdf file using an online tool. Homework assignments can only be submitted as a single .pdf file, so you will also need to figure out how to concatenate your photo .pdf file and your notebook .pdf file into a single .pdf file that you can submit. Online websites can do this for you. Alternatively, you can code up the analytical solution to your problems in a notebook Markdown cell using the LaTeX mathematical rendering language. This is harder but a chatbot can help you learn it. </li>\n",
    "</ul>"
   ]
  },
  {
   "cell_type": "markdown",
   "metadata": {},
   "source": [
    "# Homework 8"
   ]
  },
  {
   "cell_type": "markdown",
   "metadata": {},
   "source": [
    "## Problem 1: Propagating Uncertainty\n",
    "\n",
    "In lecture we discussed how to propagate uncertainties in a function of one or more variables. Consider the following equation \n",
    "$$\n",
    "F = \\frac{G M_1 M_2}{r^2}\n",
    "$$\n",
    "which describes the gravitational force between two masses $M_1$ and $M_2$ separated by a distance $r$. For the purposes of this problem, assume that \n",
    "$G = 6.67430 \\times 10^{-11}~{\\rm m}^3~{\\rm kg}^{-1}~{\\rm s}^{-2}$ is a constant that is known exactly with no uncertainty.  \n",
    "\n",
    "**Note that this problem has analytical parts and numerical parts, which are indicated below**. For the analytical parts your answer should not involve any computing (although you are free to do numerical experiements to hone your intuition).  Photograph your analytical solutions and concatenate with your Jupyter notebook into a single pdf file as described in the instructions above. \n",
    "\n",
    "**a**) Suppose that you have measured the values $M_1$, $M_2$, and $r$ from an experiment, which also yields their standard deviations $\\sigma_{M_1}$, $\\sigma_{M_2}$, and $\\sigma_r$. We will indicate this via the shorthand notation\n",
    "$$\n",
    "M_1 = \\langle M_1\\rangle \\pm \\sigma_{M_1} \\quad \\text{and} \\quad M_2 = \\langle M_2\\rangle \\pm \\sigma_{M_2} \\quad \\text{and} \\quad r = \\langle r \\rangle \\pm \\sigma_r.  \n",
    "$$\n",
    "Use the error propagation procedure that we discussed in lecture to derive an analytical expression for the mean, $\\langle F\\rangle$, and standard deviation $\\sigma_F$ of the gravitational force $F$ in terms of the means and standard deviations of $M_1$, $M_2$, and $r$. **This part is analytical. No computing allowed!** \n",
    "\n",
    "**b**) Now adopt the numerical values\n",
    "$$\n",
    "M_1 = 40\\times 10^4 \\pm 0.05 \\times 10^4~{\\rm kg} \\quad \\text{and} \\quad M_2 = 30\\times 10^4 \\pm 0.1 \\times 10^4~{\\rm kg} \\quad \\text{and} \\quad r = 3.2 \\pm 0.01~{\\rm m}.\n",
    "$$\n",
    "Plug these numbers into your formulas from part **a)** and print the values of $\\langle F\\rangle$ and $\\sigma_{\\rm F}$ to the screen. \n",
    "\n",
    "**c**) Now assume further that the measurement errors for $M_1$, $M_2$, and $r$ all follow independent Gaussian distributions, with means and standard deviations given by the numbers in part **b)**. Perform a **Monte Carlo** simulation to propagate the uncertainty on $F$ by drawing 1000000 random samples for $M_1$, $M_2$, and $r$ from their respective Gaussian distributions and computing $F$ for each sample. Make a histogram of the resulting random samples of $F$ and plot it using `matplotlib`. Make sure that you choose the number of bins in the histogram and the range of the $x$-axis appropriately. Use `scipy.stats` to overplot a curve showing the Gaussian distribution,  $\\mathcal{N}(F | \\langle F\\rangle,\\sigma_{F})$, where $\\langle F\\rangle$ and $\\sigma_{F}$ are the mean and standard deviation of $F$ that you computed via the analytical error propagation formulas in part **b)**.  Print the mean and standard deviation of the $F$ values from the Monte Carlo simulation to the screen and compare them to the analytical values from part **b)**. How well does the histogram of $F$ values from the Monte Carlo simulation agree with the Gaussian distribution? \n",
    "\n",
    "**d**) Now repeat part **c)** but with the following values: \n",
    "$$\n",
    "M_1 = 40\\times 10^4 \\pm 8 \\times 10^4~{\\rm kg} \\quad \\text{and} \\quad M_2 = 30\\times 10^4 \\pm 6 \\times 10^4~{\\rm kg} \\quad \\text{and} \\quad r = 3.2 \\pm 0.6~{\\rm m}.\n",
    "$$\n",
    "How well does the histogram of $F$ values from the Monte Carlo simulation agree with the Gaussian distribution? If they disagree, explain why this is the case. \n",
    "Which of the two methods, Monte Carlo simulation or analytical error propagation, do you think is more reliable in this case? Explain your reasoning.\n",
    "\n",
    "**e**) Now consider instead the case where our measurements and their errors are made in log space, i.e. \n",
    "$$\n",
    "\\log_{10}M_1 = \\langle \\log_{10}M_1\\rangle \\pm \\sigma_{\\log_{10}M_1} \\quad \\text{and} \\quad \\log_{10}M_2 = \\langle \\log_{10}M_2\\rangle \\pm \\sigma_{\\log_{10}M_2} \\quad \\text{and} \\quad \\log_{10}r = \\langle \\log_{10}r \\rangle \\pm \\sigma_{\\log_{10}r}. \n",
    "$$\n",
    "Note we can only take the logarithm of dimensionless quantities,  so we use the shorthand notation $\\log_{10}M_1 \\equiv \\log_{10}(M_1/1~{\\rm kg})$, $\\log_{10}M_2 \\equiv \\log_{10}(M_2/1~{\\rm kg})$, and $\\log_{10}r \\equiv \\log_{10}(r/1~{\\rm m})$.\n",
    "Further note how the mean and standard deviation are defined in log space, \n",
    "$$\n",
    "\\langle \\log_{10} M_1\\rangle  \\equiv \\int P(\\log_{10}M_1) \\log_{10}M_1 d\\log_{10}M_1 \\quad \\text{and} \\quad \\sigma_{\\log_{10}M_1}^2 \\equiv \\int P(\\log_{10}M_1) (\\log_{10}M_1 - \\langle \\log_{10}M_1\\rangle)^2 d\\log_{10}M_1, \n",
    "$$\n",
    "where $P(\\log_{10}M_1)$ is the probability distribution of $\\log_{10}M_1$, and likewise for $M_2$, $r$, and $F$. Use the error propagation procedure that we discussed in lecture to derive an analytical expression for the mean, $\\langle \\log_{10}F\\rangle$, and standard deviation $\\sigma_{\\log_{10}F}$ of the logarithm of the gravitational force in terms of the means and standard deviations of $\\log_{10}M_1$, $\\log_{10}M_2$, and $\\log_{10}r$. **This part is analytical. No computing allowed!** \n",
    "\n",
    "**f**) Now assume that the measurement errors for $\\log_{10}M_1$, $\\log_{10}M_2$, and $\\log_{10}r$ all follow independent Gaussian distributions, how is \n",
    "$\\log_{10} F$ distributed? In other words what is the functional form of $P(\\log_{10}F)$? Explain your reasoning. **This part does not involve any computing** (see lecture notes!).\n",
    "\n",
    "**g**) Given your answer from part **f)** for the functional form of $P(\\log_{10}F)$, use the change of variable rules that we derived for probablity distributions to derive an expression for the probability distribution $P(F)$, of $F$ in terms of $\\langle \\log_{10} F\\rangle$ and $\\sigma_{\\log_{10}F}$. **This part is analytical. No computing allowed!**\n",
    "\n",
    "**h**) Now adopt the numerical values\n",
    "$$\n",
    "\\log_{10} M_1 = 5.6 \\pm 0.15~\\text{dex} \\quad \\text{and} \\quad \\log_{10}M_2 = 5.5 \\pm 0.15~\\text{dex} \\quad \\text{and} \\quad \\log_{10}r = 0.50 \\pm 0.2~\\text{dex}. \n",
    "$$\n",
    "Here **dex** is a shorthand for **decimal exponent** indicating that we are expressing values and uncertainties in the exponent on a logarithmic scale. \n",
    "Plug these numbers into your formulas from part **e)** and print the values of $\\langle \\log_{10}F\\rangle$ and $\\sigma_{\\rm \\log_{10}F}$ to the screen. \n",
    "\n",
    "**i**) Now perform a **Monte Carlo** simulation to propagate the uncertainty on $F$ by drawing 1000000 random samples for $\\log_{10} M_1$, $\\log_{10}M_2$, and $\\log_{10}r$ from their respective Gaussian distributions and computing $F$ for each sample. Make a histogram of the resulting random samples of $F$ and plot it using `matplotlib`. Overplot a curve showing the distribution function, $P(F)$, that you derived in part **g)**, using the values of $\\langle \\log_{10}F\\rangle$ and $\\sigma_{\\log_{10}F}$ that you computed via the analytical error propagation formulas in part **h)**.   **Note that your plot has to be in linear space, not log space!**, i.e. $F$ on the $x$-axis, $P(F)$ on the $y$-axis, and histograms computed for $F$.  Print the mean and standard deviation of $\\log_{10}F$ computed from the 1000000 random samples and compare them to your analytical values from part **h)**. How well does the histogram of $F$ values from the Monte Carlo simulation agree with the distribution function $P(F)$ that you derived in part **g)**?"
   ]
  },
  {
   "cell_type": "markdown",
   "metadata": {},
   "source": [
    "## Problem 2: Sampling from an Arbitrary Distribution\n",
    "\n",
    "Consider the probability distribution $P(y)$ defined by\n",
    "$$\n",
    "P(y) = \n",
    "\\begin{cases} \n",
    "3y^2 & \\text{for } 0 \\leq y \\leq 1. \\\\\n",
    "0 & \\text{otherwise}, \n",
    "\\end{cases}\n",
    "$$\n",
    "Generate 1000000 samples from this distribution using the inverse cumulative distribution function method and generate a histogram of the samples.  Use `matplotlib` to plot the histogram and overplot the probability distribution $P(y)$ to confirm that the histogram of the samples agrees with $P(y)$."
   ]
  }
 ],
 "metadata": {
  "kernelspec": {
   "display_name": "Python 3 (ipykernel)",
   "language": "python",
   "name": "python3"
  },
  "language_info": {
   "codemirror_mode": {
    "name": "ipython",
    "version": 3
   },
   "file_extension": ".py",
   "mimetype": "text/x-python",
   "name": "python",
   "nbconvert_exporter": "python",
   "pygments_lexer": "ipython3",
   "version": "3.12.3"
  }
 },
 "nbformat": 4,
 "nbformat_minor": 4
}
