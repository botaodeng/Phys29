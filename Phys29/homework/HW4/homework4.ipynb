{
 "cells": [
  {
   "cell_type": "markdown",
   "metadata": {},
   "source": [
    "<h1 style=\"font-size: 32px; text-align: center;\">Introduction to Computer Programming for the Physical Sciences</h1>\n",
    "<h2 style=\"font-size: 24px; text-align: center;\">Joseph F. Hennawi</h2>\n",
    "<h3 style=\"font-size: 24px; text-align: center;\">Spring 2024</h2>"
   ]
  },
  {
   "cell_type": "markdown",
   "metadata": {},
   "source": [
    "<ul style=\"list-style: none;\">\n",
    "  <li style=\"margin-bottom: 10px; font-size: 20px;\"><span style=\"display: inline-block; width: 10px; height: 10px; border: 2px solid black; margin-right: 10px;\"></span>Open a new Jupyter notebook</li>\n",
    "  <li style=\"margin-bottom: 10px; font-size: 20px;\"><span style=\"display: inline-block; width: 10px; height: 10px; border: 2px solid black; margin-right: 10px;\"></span>Name your notebook with your name and Homework 1</li>\n",
    "  <li style=\"margin-bottom: 10px; font-size: 20px;\"><span style=\"display: inline-block; width: 10px; height: 10px; border: 2px solid black; margin-right: 10px;\"></span>Open a Markdown cell at the top and write your name and Homework 1</li>\n",
    "  <li style=\"margin-bottom: 10px; font-size: 20px;\"><span style=\"display: inline-block; width: 10px; height: 10px; border: 2px solid black; margin-right: 10px;\"></span>Open a Markdown cell before each problem and write e.g. Problem 1, Problem 2(a), etc.</li>\n",
    "  <li style=\"margin-bottom: 10px; font-size: 20px;\"><span style=\"display: inline-block; width: 10px; height: 10px; border: 2px solid black; margin-right: 10px;\"></span>Please abide by the <b><a href=\"https://github.com/enigma-igm/Phys29/blob/main/using_AI_tools.md\">Policy and Guidelines on Using AI Tools</a></b></li>\n",
    "  <li style=\"margin-bottom: 10px; font-size: 20px;\"><span style=\"display: inline-block; width: 10px; height: 10px; border: 2px solid black; margin-right: 10px;\"></span>Once you finish the problems: 1) Restart the Python kernel and clear all cell outputs. 2) Rerun the notebook from start to finish so that all answers/outputs show up. 3) Save your notebook as a single .pdf file and upload it to Gradescope on Canvas by the deadline. <b>No late homeworks will be accepted except for illness accompanied by a doctor's note.</b></li>\n",
    "  <li style=\"margin-bottom: 10px; font-size: 20px;\"><span style=\"display: inline-block; width: 10px; height: 10px; border: 2px solid black; margin-right: 10px;\"></span> For parts of problems that require analytical solutions you can perform your calculations using a pencil and paper. Then  photograph your work and convert the photograph to a .pdf file using an online tool. Homework assignments can only be submitted as a single .pdf file, so you will also need to figure out how to concatenate your photo .pdf file and your notebook .pdf file into a single .pdf file that you can submit. Online websites can do this for you. Alternatively, you can code up the analytical solution to your problems in a notebook Markdown cell using the LaTeX mathematical rendering language. This is harder but a chatbot can help you learn it. </li>\n",
    "</ul>"
   ]
  },
  {
   "cell_type": "markdown",
   "metadata": {},
   "source": [
    "# Homework 4"
   ]
  },
  {
   "cell_type": "markdown",
   "metadata": {},
   "source": [
    "## Problem 1: Benford's Law\n",
    "Benford's law refers to the observation that in many real-life datasets, the frequency of the first digits of each number is not uniform. \n",
    "If the digits were distributed uniformly, they would each occur as the first digit with equal probability, i.e. 1/9 per digit, or 11.1% of the time. \n",
    "Instead, there tend to be many more numbers with the  first significant (decimal) digit of 1 as compared to 9. This applies best to datsets where \n",
    "the numbers span several orders of magnitude.  Familiarize yourself with Benford's law by reading the Wikipedia page [here](https://en.wikipedia.org/wiki/Benford%27s_law). \n",
    "Incidentally, Benford’s law is used in forensic accounting to detect fraud, see [here](https://www.acfeinsights.com/acfe-insights/what-is-benfords-law). \n",
    "\n",
    "Download the file [census_data.csv](https://github.com/enigma-igm/Phys29/blob/main/Phys29/homework/HW4/data/census_data.csv) at this link: https://github.com/enigma-igm/Phys29/blob/main/Phys29/homework/HW4/data/census_data.csv This is a comma-separated values or **csv** file containing data from the United States Census Bureau. It lists the number of inhabitants for every town in the USA. As we discussed in the Week4 [lecture](https://github.com/enigma-igm/Phys29/tree/main/Phys29/lectures/Week4) on Reading and Writing Files, a CSV file is like a simple spreadsheet, where cells in each row are separated by a specific delimiter (in this case, a comma). As is indicated in the first header line of the CSV, the census data has three columns: State,Town,Population. \n",
    "\n",
    "**Note that Problem 2 will require you to reuse some of the code that you develop for this problem. Make sure that you write general functions for this problem that you can then use for both problems.**\n",
    "\n",
    "**a)** Write a Python program to read the census data file using the `pandas` package. \n",
    "\n",
    "**b)** Extract the most significant digit from the Population column data for each town. For example for `California,Santa Barbara city,86353`, the most significant digit of the Population is 8. Store the most significant digits for each town in a `numpy` array.  This array should have integer type and shape `shape=(ntown,)` where `ntown` is the number of towns in the dataset. \n",
    "\n",
    "**c)** Construct a numpy array of shape `(9,)` that contains the integer number of times that each of the most significant digits 1-9 appears in the dataset. For this part of the problem, you are allowed to loop over the numbers (1,2,...9), **but no other loops are allowed!!, i.e. you cannot loop over the towns in the dataset** Hint: Use `numpy` Boolean indexing. \n",
    "\n",
    "**d)** Write a program to plot a histogram of the **number of times** that each significant digit appears. The $x$-axis should be the digits (1,2,...9), and the $y$-axis should be the number of times that each digit appears. Plot the expectation for the case where the distribution across the digits is uniform, i.e. 11.1% per digit, as a horizontal line on the same plot. I realize we have not covered plotting yet in the lectures, but you can use Google or AI to assist you. \n",
    "\n",
    "**e)** Using your results from **c)** and **d)** print to the screen the **percentage** of the time that each of the most significant digits 1-9 appears in the dataset. \n",
    "\n",
    "**f)** Do the populations in this dataset obey Benford's law? Explain your reasoning. \n",
    "\n",
    "**g)** Make a histogram of the town Populations using the following code:\n",
    "```python \n",
    "from matplotlib import pyplot as plt\n",
    "log10_bins = np.logspace(np.log10(np.min(populations)), np.log10(np.max(populations)), 100)\n",
    "plt.hist(populations, bins=log10_bins)\n",
    "plt.xscale('log')\n",
    "plt.yscale('log')\n",
    "plt.xlabel('Population')\n",
    "plt.ylabel('Number of Towns')\n",
    "plt.show()\n",
    "```\n",
    "Note that we have chosen our histogram bins to be linearly spaced in the $\\log_{10}$ of the population and made our histogram plot with a log scale on the $x$-axis to better illustrate the full dynamic range of the populations. We similarly chose a log scale on the $y$-axis to illustrate the large range of the number of cities in each histogram bin.  \n",
    "\n",
    "Based on the *distribution* of populations illustrated by the histogram, comment on why or why not you would expect the population data to obey Benford's law. \n"
   ]
  },
  {
   "cell_type": "code",
   "execution_count": 1,
   "metadata": {},
   "outputs": [],
   "source": [
    "#Problem 1\n",
    "# a)\n",
    "import pandas as pd\n"
   ]
  },
  {
   "cell_type": "markdown",
   "metadata": {},
   "source": [
    "## Problem 2: Munich Temperatures \n",
    "\n",
    "Download the file [munich_temperatures.txt](https://github.com/enigma-igm/Phys29/blob/main/Phys29/homework/HW4/data/munich_temperatures.txt) at this link: https://github.com/enigma-igm/Phys29/blob/main/Phys29/homework/HW4/data/munich_temperatures.txt This is a text file containing the temperature (averaged over a 24 hour day) in Munich, Germany for each day between 1995-2013. The dates are represented by a floating point number where the integer part is the year and the decimal part is the fraction of the year. In other words,  1995.75 would be three quarters into the year 1995, or 10/01/1995.  The average temperatures are in degrees Celsius. \n",
    "\n",
    "**a)** Write a Python program to read this file using the `pandas` package. Assign the date and temperature columns of the `pandas` `DataFrame` to two arrays of shape `(ndays,)` where `ndays` is the number of days in the dataset.\n",
    "\n",
    "**b)** The temperature data contains bad values. Analyze the temperatures and figure out how to identify which values are the bad ones (remember these are temperatures in degrees Celsius not Fahrenheit!). Use `numpy` boolean indexing to create two new date and temperature `numpy` arrays that contain only the good data.\n",
    "\n",
    "**c)** Using the good data from part **b)**, compute the average (i.e. use `numpy.mean`) temperature over the entire time period covered by the dataset and print the value to the screen. **You are not allowed to perform any loops in this part of the problem.**\n",
    "\n",
    "**d)** Compute the minimum, maximum and average temperature as a function of the year for each year 1995, 1996, ..., 2012 (ignore 2013 since it is incompletely covered). **You are allowed to loop over the years** (i.e. `range(1995,2013)`), **but no other loops are allowed**. Print the minimum, maximum, and average temperature for each year to the screen.\n",
    "\n",
    "**e)** Convert the good temperatures in the Munich temperatures dataset onto the *absolute temperature* scale in degrees Kelvin (**no loops allowed!**).  \n",
    "\n",
    "**f)** Repeat Problem1(c) but for the good temperatures in the Munich temperature dataset **in degrees Kelvin** using the functions that you wrote for Problem 1.  **Do not repeat code, i.e. use the general functions that you wrote in Problem 1 to solve this part and the rest of the parts of this Problem below.**\n",
    "\n",
    "**g)** Repeat Problem1(d) but for the good temperatures in degrees Kelvin using the functions that you wrote for Problem 1.\n",
    "\n",
    "**h)** Repeat Problem1(e) but for the good temperatures in degrees Kelvin using the functions that you wrote for Problem 1.\n",
    "\n",
    "**i)** Do the daily temperatures in Munich in degrees Kelvin obey Benford's law? Explain your reasoning.  \n",
    "\n",
    "**j)** Make a histogram of good temperatures in degrees Kelvin as in Problem1(g). Think about the best choices for the histogram bins (i.e. logarthmic or linear) and the scale of the $x$-axis (i.e. linear or logarithmic) and $y$-axis given the dynamic range of this data.  \n",
    "\n",
    "Based on the *distribution* of temperatures, comment on why or why not you would expect the temperature data to obey Benford's law. "
   ]
  },
  {
   "cell_type": "markdown",
   "metadata": {},
   "source": [
    "## Problem 3: Array Slicing"
   ]
  },
  {
   "cell_type": "markdown",
   "metadata": {},
   "source": [
    "Download the data [slicing.txt](https://github.com/enigma-igm/Phys29/blob/main/Phys29/homework/HW4/data/slicing.txt) at this link: https://github.com/enigma-igm/Phys29/blob/main/Phys29/homework/HW4/data/slicing.txt. This is a text file containing a 2D numpy array of `shape=(6,6,)`. Read the data file into a `numpy` array using `np.loadtxt`. See the Week4 [lecture](https://github.com/enigma-igm/Phys29/tree/main/Phys29/lectures/Week4) for an example of how to use `np.loadtxt`. \n",
    "\n",
    "The colors in the image below indicate different sub-arrays that can be extracted from the main array. For \n",
    "each of the colors (sub-arrays), obtain the new numpy sub-array with a single `numpy` command using the slice/stride syntax. \n",
    "Print the shape of the sub-arrays and the contents of the sub-arrays to the screen to verify that your results are correct. \n",
    "\n",
    "<img src=\"figures/slicing.png\" alt=\"Phys29 GitHub.\" width=\"400\">\n",
    "\n"
   ]
  }
 ],
 "metadata": {
  "kernelspec": {
   "display_name": "Python 3 (ipykernel)",
   "language": "python",
   "name": "python3"
  },
  "language_info": {
   "codemirror_mode": {
    "name": "ipython",
    "version": 3
   },
   "file_extension": ".py",
   "mimetype": "text/x-python",
   "name": "python",
   "nbconvert_exporter": "python",
   "pygments_lexer": "ipython3",
   "version": "3.11.8"
  }
 },
 "nbformat": 4,
 "nbformat_minor": 4
}
