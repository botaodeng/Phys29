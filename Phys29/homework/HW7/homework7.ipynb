{
 "cells": [
  {
   "cell_type": "markdown",
   "metadata": {},
   "source": [
    "<h1 style=\"font-size: 32px; text-align: center;\">Introduction to Computer Programming for the Physical Sciences</h1>\n",
    "<h2 style=\"font-size: 24px; text-align: center;\">Joseph F. Hennawi</h2>\n",
    "<h3 style=\"font-size: 24px; text-align: center;\">Spring 2024</h2>"
   ]
  },
  {
   "cell_type": "markdown",
   "metadata": {},
   "source": [
    "<ul style=\"list-style: none;\">\n",
    "  <li style=\"margin-bottom: 10px; font-size: 20px;\"><span style=\"display: inline-block; width: 10px; height: 10px; border: 2px solid black; margin-right: 10px;\"></span>Open a new Jupyter notebook</li>\n",
    "  <li style=\"margin-bottom: 10px; font-size: 20px;\"><span style=\"display: inline-block; width: 10px; height: 10px; border: 2px solid black; margin-right: 10px;\"></span>Name your notebook with your name and Homework 1</li>\n",
    "  <li style=\"margin-bottom: 10px; font-size: 20px;\"><span style=\"display: inline-block; width: 10px; height: 10px; border: 2px solid black; margin-right: 10px;\"></span>Open a Markdown cell at the top and write your name and Homework 1</li>\n",
    "  <li style=\"margin-bottom: 10px; font-size: 20px;\"><span style=\"display: inline-block; width: 10px; height: 10px; border: 2px solid black; margin-right: 10px;\"></span>Open a Markdown cell before each problem and write e.g. Problem 1, Problem 2(a), etc.</li>\n",
    "  <li style=\"margin-bottom: 10px; font-size: 20px;\"><span style=\"display: inline-block; width: 10px; height: 10px; border: 2px solid black; margin-right: 10px;\"></span>Please abide by the <b><a href=\"https://github.com/enigma-igm/Phys29/blob/main/using_AI_tools.md\">Policy and Guidelines on Using AI Tools</a></b></li>\n",
    "  <li style=\"margin-bottom: 10px; font-size: 20px;\"><span style=\"display: inline-block; width: 10px; height: 10px; border: 2px solid black; margin-right: 10px;\"></span>Once you finish the problems: 1) Restart the Python kernel and clear all cell outputs. 2) Rerun the notebook from start to finish so that all answers/outputs show up. 3) Save your notebook as a single .pdf file and upload it to Gradescope on Canvas by the deadline. <b>No late homeworks will be accepted except for illness accompanied by a doctor's note.</b></li>\n",
    "  <li style=\"margin-bottom: 10px; font-size: 20px;\"><span style=\"display: inline-block; width: 10px; height: 10px; border: 2px solid black; margin-right: 10px;\"></span> For parts of problems that require analytical solutions you can perform your calculations using a pencil and paper. Then  photograph your work and convert the photograph to a .pdf file using an online tool. Homework assignments can only be submitted as a single .pdf file, so you will also need to figure out how to concatenate your photo .pdf file and your notebook .pdf file into a single .pdf file that you can submit. Online websites can do this for you. Alternatively, you can code up the analytical solution to your problems in a notebook Markdown cell using the LaTeX mathematical rendering language. This is harder but a chatbot can help you learn it. </li>\n",
    "</ul>"
   ]
  },
  {
   "cell_type": "markdown",
   "metadata": {},
   "source": [
    "# Homework 7"
   ]
  },
  {
   "cell_type": "markdown",
   "metadata": {},
   "source": [
    "## Problem 1: Properties of the Mean and Variance Operators\n",
    "\n",
    "Consider two random variables, $x$ and $y$, described by a joint probability distribution $P(x,y)$. \n",
    "Let $A$ and $B$ be constants, i.e. they do not depend on $x$ or $y$. Recall that the mean and variance \n",
    "of an arbitrary function $f(x,y)$ of the random variables $x$ and $y$ are defined as\n",
    "$$\n",
    "\\langle f(x,y)\\rangle = \\int f(x,y) P(x,y) dx dy \\quad\\quad {\\rm and}\\quad\\quad {\\rm Var}[f(x,y)] = \\int \\left[f(x,y) - \\langle f(x,y)\\rangle\\right]^2 P(x,y)dxdy,\n",
    "$$\n",
    "**Note that this problem involves mathetical proofs which must be done with a pencil and paper. If you know Latex you can typset the math in a notebook. No computing allowed!** Photograph your solutions and concatenate with your Jupyter notebook into a single pdf file as described in the instructions above. \n",
    "\n",
    "**a)** Prove that  $\\langle A\\rangle = A$. \n",
    "\n",
    "**b)** Prove that ${\\rm Var}(A) = 0.$\n",
    "\n",
    "**c)** Prove that ${\\rm Var}(Ax) = A^2{\\rm Var}(x)$ and likewise that ${\\rm Var}(By) = B^2{\\rm Var}(y)$. \n",
    "\n",
    "**d)** Prove that the  mean operator is a linear operator, i.e. \n",
    "$$\n",
    "\\langle Ax + By\\rangle = A\\langle x\\rangle + B\\langle y\\rangle, \n",
    "$$\n",
    "\n",
    "**e)** Now for the rest of this problem assume that $x$ and $y$ are **statistically independent**, such that the joint probability distribution has the form \n",
    "$$\n",
    "P(x,y) = P(x)P(y),\n",
    "$$\n",
    "where $P(x)$ and $P(y)$ are 1D probability distributions for $x$ and $y$, respectively. Prove that \n",
    "$$\n",
    "\\langle x\\rangle = \\int x P(x) dx \\quad\\quad {\\rm and} \\quad\\quad \\langle y\\rangle = \\int y P(y) dy. \n",
    "$$ \n",
    "Note that given the expression for $\\langle f(x,y)\\rangle$ above, this is not simply stating the definition of the mean. \n",
    "\n",
    "**f)** Prove that \n",
    "$$\n",
    "{\\rm Var}(x) = \\int (x-\\langle x\\rangle)^2 P(x) dx \\quad\\quad {\\rm and} \\quad\\quad {\\rm Var}(y) = \\int (y-\\langle y\\rangle)^2 P(y) dy,\n",
    "$$\n",
    "Again, this is not simply stating the definition of the variance.\n",
    "\n",
    "**g)** Prove that the variance of a linear combination of statistically independent random variables is given by\n",
    "$$\n",
    "{\\rm Var}(Ax + By) = A^2{\\rm Var}(x) + B^2{\\rm Var}(y).\n",
    "$$"
   ]
  },
  {
   "cell_type": "markdown",
   "metadata": {},
   "source": [
    "## Problem 2: The Central Limit Theorem\n",
    "\n",
    "Consider a random variable $x$ uniformly distributed on the interval, $[a,b]$, which follows the probability density\n",
    "$$\n",
    "U(x|a,b) = \n",
    "\\begin{cases} \n",
    "\\frac{1}{b-a} & \\text{for } a \\leq x < b, \\\\\n",
    "0 & \\text{otherwise}.\n",
    "\\end{cases}\n",
    "$$\n",
    "\n",
    "**a)** Use the definition of the mean operator to compute $\\langle x\\rangle$ in terms of $a$ and $b$.\n",
    "\n",
    "**b)** Use the definition of the variance operator, ${\\rm Var}(x)$, to compute the standard deviation, $\\sigma$ in terms of $a$ and $b$.\n",
    "\n",
    "**c)** Use `numpy` to draw a million random numbers from the uniform distribution with $a=0$ and $b=12$ and\n",
    "print the mean and standard deviation to the screen to verify that your calculations in parts **a)** and **b)** are \n",
    "correct. \n",
    "\n",
    "**d)**  The **central limit theorem** is a  fundamental result in statistics which states that, under appropriate conditions, the sum of a large number of independent random variables tends to a Gaussian distribution even when the original variables themselves **are not Gaussian distributed**. It  plays an important role in physics as it explains why distributions in nature that result from a sum of random quantities tend to be Gaussian. In the next steps you will verify the central limit theorem for the uniform distribution.\n",
    "\n",
    "Use `numpy` to draw a million samples of 12 random numbers from the uniform distribution with $a=0$ and $b=12$,  and store them in a 2D `numpy` array with `shape=(1000000,12)`, where the first dimension indexes the sample number and the second dimension indexes the 12 uniform random numbers. \n",
    "\n",
    "Compute the mean *of each sample* using `numpy.mean` and store the results in a 1D `numpy` array with `shape=(1000000,)` called `mean_of_12`. **No loops are allowed!**\n",
    "\n",
    "Now use `numpy` to compute the mean, $\\mu_{12}$, and standard deviation, $\\sigma_{12}$, of the `mean_of_12` array and print them to the screen. \n",
    "\n",
    "You should find that $\\mu_{12}$ is (obviously) very close to the $\\langle x\\rangle$ that you derived in part **a)**, and that the standard deviation, $\\sigma_{12}$, is (less obviously) very close to unity, $\\sigma_{12} \\simeq 1$. \n",
    "\n",
    "**e)** Construct a histogram  of the million samples in `mean_of_12` to estimate and visualize the probability distribution $P(\\texttt{mean\\_of\\_12})$,  and thus verify the central limit theorem.  Make sure that you choose the number of bins in the histogram appropriately. Use `matplotlib` to plot your estimate of $P(\\texttt{mean\\_of\\_12})$. Use `scipy.stats` to overplot a curve showing a Gaussian distribution,  $\\mathcal{N}(\\texttt{mean\\_of\\_12} | \\mu_{12},\\sigma_{12})$,  with mean $\\mu_{12}$ and standard deviation $\\sigma_{12}$ that you computed in part **d)**. Verify that, following the central limit theorem, $P(\\texttt{mean\\_of\\_12})$ is very close to Gaussian. \n",
    "\n",
    "**f)** Use your results from part **a)** and **b)** as well well as the properties of the mean and variance operators that you proved in **Problem 1**, to **analytically** (no computing allowed here) explain why you obtained the values of $\\mu_{12}$ and $\\sigma_{12}$ that you did in part **d)**.\n",
    "\n"
   ]
  }
 ],
 "metadata": {
  "kernelspec": {
   "display_name": "Python 3 (ipykernel)",
   "language": "python",
   "name": "python3"
  },
  "language_info": {
   "codemirror_mode": {
    "name": "ipython",
    "version": 3
   },
   "file_extension": ".py",
   "mimetype": "text/x-python",
   "name": "python",
   "nbconvert_exporter": "python",
   "pygments_lexer": "ipython3",
   "version": "3.11.5"
  }
 },
 "nbformat": 4,
 "nbformat_minor": 4
}
