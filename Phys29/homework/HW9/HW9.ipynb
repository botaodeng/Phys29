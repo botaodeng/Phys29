{
 "cells": [
  {
   "cell_type": "code",
   "execution_count": 1,
   "metadata": {},
   "outputs": [],
   "source": [
    "import numpy as np\n",
    "import matplotlib.pyplot as plt\n",
    "from matplotlib.ticker import AutoMinorLocator\n",
    "import pandas as pd\n",
    "import matplotlib.ticker as ticker\n",
    "import scipy\n",
    "# import the lib we need later"
   ]
  },
  {
   "cell_type": "code",
   "execution_count": 3,
   "metadata": {},
   "outputs": [
    {
     "name": "stdout",
     "output_type": "stream",
     "text": [
      "     wavelength  k_lam_1  k_lam_2  k_lam_3\n",
      "0        1066.0        6        1        0\n",
      "1        1067.0       10        0        0\n",
      "2        1068.0        7        0        0\n",
      "3        1069.0        9        0        0\n",
      "4        1070.0       11        0        0\n",
      "..          ...      ...      ...      ...\n",
      "296      1362.0        1        0        5\n",
      "297      1363.0        2        2        2\n",
      "298      1364.0        2        0        1\n",
      "299      1365.0        1        0        0\n",
      "300      1366.0        3        0        4\n",
      "\n",
      "[301 rows x 4 columns]\n"
     ]
    }
   ],
   "source": [
    "# homewrok 9\n",
    "# a)\n",
    "\n",
    "spectra = pd.read_csv('data\\spectra.csv')\n",
    "# load the spectra data into notebook\n",
    "\n"
   ]
  }
 ],
 "metadata": {
  "kernelspec": {
   "display_name": "Phys29",
   "language": "python",
   "name": "python3"
  },
  "language_info": {
   "codemirror_mode": {
    "name": "ipython",
    "version": 3
   },
   "file_extension": ".py",
   "mimetype": "text/x-python",
   "name": "python",
   "nbconvert_exporter": "python",
   "pygments_lexer": "ipython3",
   "version": "3.11.8"
  }
 },
 "nbformat": 4,
 "nbformat_minor": 2
}
