{
 "cells": [
  {
   "cell_type": "markdown",
   "metadata": {},
   "source": [
    "<h1 style=\"font-size: 32px; text-align: center;\">Introduction to Computer Programming for the Physical Sciences</h1>\n",
    "<h2 style=\"font-size: 24px; text-align: center;\">Shane Bechtel</h2>\n",
    "<h3 style=\"font-size: 24px; text-align: center;\">Spring 2024</h2>"
   ]
  },
  {
   "cell_type": "markdown",
   "metadata": {},
   "source": [
    "## Working on Section Problems\n",
    "\n",
    "<ul style=\"list-style: none;\">\n",
    "  <li style=\"margin-bottom: 10px; font-size: 20px;\"><span style=\"display: inline-block; width: 10px; height: 10px; border: 2px solid black; margin-right: 10px;\"></span>Get into groups of 2 or 3, with at least one laptop per group.</li>\n",
    "  <li style=\"margin-bottom: 10px; font-size: 20px;\"><span style=\"display: inline-block; width: 10px; height: 10px; border: 2px solid black; margin-right: 10px;\"></span>Discuss with each other and attempt each problem yourselves first without AI support for 10-15 mins.</li>\n",
    "  <li style=\"margin-bottom: 10px; font-size: 20px;\"><span style=\"display: inline-block; width: 10px; height: 10px; border: 2px solid black; margin-right: 10px;\">\n",
    "</span>Input the problem prompt into the AI chatbox, use its answer to verify your own, or to learn how it should be solved.</li>\n",
    "  <li style=\"margin-bottom: 10px; font-size: 20px;\"><span style=\"display: inline-block; width: 10px; height: 10px; border: 2px solid black; margin-right: 10px;\">\n",
    "</span>For section problems, you can omit most of the commenting and focus on learning coding. For more difficult problems, minimal comments are still recommended as a way of organizing your own thoughts.</li>\n",
    "  <li style=\"margin-bottom: 10px; font-size: 20px;\"><span style=\"display: inline-block; width: 10px; height: 10px; border: 2px solid black; margin-right: 10px;\"></span>Please abide by the <b><a href=\"https://github.com/enigma-igm/Phys29/blob/main/using_AI_tools.md\">Policy and Guidelines on Using AI Tools</a></b></li>"
   ]
  },
  {
   "cell_type": "markdown",
   "metadata": {},
   "source": [
    "# Section 3"
   ]
  },
  {
   "cell_type": "markdown",
   "metadata": {},
   "source": [
    "## Problem 1: Solving Quadratic Equation\n",
    "Write a Python function that finds the value(s) of x that solve the quadratic equation\n",
    "\\begin{equation}\n",
    "ax2 + bx + c = 0\n",
    "\\end{equation}\n",
    "for arbitrary real values of a, b, and c. Note that you can allow your function to return two values (x1 and x2, say)\n",
    "by just using the statement ```return x1, x2```\n",
    "\n",
    "Note that there are some issues that you might want to consider:\n",
    "\n",
    "• What if a = 0?\n",
    "\n",
    "• What if the roots are complex? As you may have discovered in section last week, the numpy function ```np.sqrt()```\n",
    "will give an error if you feed it a negative number. You can get round this by first converting your negative\n",
    "number (-2, say) into a complex number using the Python type command complex, e.g. ```complex(-2)```. Python\n",
    "can handle integers, floats, and complex numbers! This isn’t necessary if you express a square root as ```**0.5```,\n",
    "as Python then does the conversion for you.\n",
    "\n",
    "• What if |b| is huge compared to a and c? Then |b| and $+\\sqrt{b^2 − 4ac}$ will be quite close in value, and subtracting\n",
    "them may result in a loss of precision. In this case it is better to compute the root x1 where |b| and $+\\sqrt{b^2 − 4ac}$\n",
    "are added, and then compute the other root as c/(ax1)."
   ]
  },
  {
   "cell_type": "code",
   "execution_count": 1,
   "metadata": {
    "tags": []
   },
   "outputs": [],
   "source": [
    "# your solution here\n",
    "\n",
    "def quad_form(a,b,c):\n",
    "    \"\"\"\n",
    "    Create a function to solve the quadratic equation for x1 and x2 given some a,b,c\n",
    "\n",
    "    Parameters\n",
    "        a: coefficient of x**2 term; units of m**-2\n",
    "        b: coefficient of x**1 term; units of m**-1\n",
    "        c: coefficient of x**0 term; units of m**0\n",
    "\n",
    "    Output:\n",
    "        x1: First solution to quadratic equation\n",
    "        x2: Second solution to quadratic equation\n",
    "    \"\"\"\n",
    "\n",
    "    # Calculate the two possible solutions to the radical term\n",
    "    rad_pos = +(b**2-4*a*c)**0.5\n",
    "    rad_neg = -(b**2-4*a*c)**0.5\n",
    "\n",
    "    # Find the numerator for both the positive and negative radical solutions\n",
    "    numer_pos = -b + rad_pos\n",
    "    numer_neg = -b + rad_neg\n",
    "\n",
    "    # Denominator term\n",
    "    denom = 2*a\n",
    "\n",
    "    # Calculate the two solutions\n",
    "    x1 = numer_pos/denom\n",
    "    x2 = numer_neg/denom\n",
    "\n",
    "    return x1, x2\n",
    "    \n",
    "    "
   ]
  },
  {
   "cell_type": "code",
   "execution_count": 2,
   "metadata": {},
   "outputs": [
    {
     "data": {
      "text/plain": [
       "(-0.3819660112501051, -2.618033988749895)"
      ]
     },
     "execution_count": 2,
     "metadata": {},
     "output_type": "execute_result"
    }
   ],
   "source": [
    "quad_form(1,3,1)"
   ]
  },
  {
   "cell_type": "code",
   "execution_count": 3,
   "metadata": {},
   "outputs": [
    {
     "ename": "ZeroDivisionError",
     "evalue": "float division by zero",
     "output_type": "error",
     "traceback": [
      "\u001b[0;31m---------------------------------------------------------------------------\u001b[0m",
      "\u001b[0;31mZeroDivisionError\u001b[0m                         Traceback (most recent call last)",
      "Cell \u001b[0;32mIn[3], line 1\u001b[0m\n\u001b[0;32m----> 1\u001b[0m \u001b[43mquad_form\u001b[49m\u001b[43m(\u001b[49m\u001b[38;5;241;43m0\u001b[39;49m\u001b[43m,\u001b[49m\u001b[38;5;241;43m3\u001b[39;49m\u001b[43m,\u001b[49m\u001b[38;5;241;43m1\u001b[39;49m\u001b[43m)\u001b[49m \u001b[38;5;66;03m# How could you account for this? IF only there was a way to account for certain conditions\u001b[39;00m\n",
      "Cell \u001b[0;32mIn[1], line 29\u001b[0m, in \u001b[0;36mquad_form\u001b[0;34m(a, b, c)\u001b[0m\n\u001b[1;32m     26\u001b[0m denom \u001b[38;5;241m=\u001b[39m \u001b[38;5;241m2\u001b[39m\u001b[38;5;241m*\u001b[39ma\n\u001b[1;32m     28\u001b[0m \u001b[38;5;66;03m# Calculate the two solutions\u001b[39;00m\n\u001b[0;32m---> 29\u001b[0m x1 \u001b[38;5;241m=\u001b[39m \u001b[43mnumer_pos\u001b[49m\u001b[38;5;241;43m/\u001b[39;49m\u001b[43mdenom\u001b[49m\n\u001b[1;32m     30\u001b[0m x2 \u001b[38;5;241m=\u001b[39m numer_neg\u001b[38;5;241m/\u001b[39mdenom\n\u001b[1;32m     32\u001b[0m \u001b[38;5;28;01mreturn\u001b[39;00m x1, x2\n",
      "\u001b[0;31mZeroDivisionError\u001b[0m: float division by zero"
     ]
    }
   ],
   "source": [
    "quad_form(0,3,1) # How could you account for this? IF only there was a way to account for certain conditions"
   ]
  },
  {
   "cell_type": "code",
   "execution_count": 4,
   "metadata": {},
   "outputs": [
    {
     "data": {
      "text/plain": [
       "((-0.24999999999999997+0.3227486121839514j),\n",
       " (-0.25000000000000006-0.3227486121839514j))"
      ]
     },
     "execution_count": 4,
     "metadata": {},
     "output_type": "execute_result"
    }
   ],
   "source": [
    "quad_form(6,3,1) # In Python, complex numbers are denoted by 'j'; NOT 'i'"
   ]
  },
  {
   "cell_type": "code",
   "execution_count": 5,
   "metadata": {},
   "outputs": [
    {
     "data": {
      "text/plain": [
       "(0.0, -500000000.0)"
      ]
     },
     "execution_count": 5,
     "metadata": {},
     "output_type": "execute_result"
    }
   ],
   "source": [
    "quad_form(6,3000000000,1) # Are these really the two solutions? Or is there some limiting precision to our results?"
   ]
  },
  {
   "cell_type": "markdown",
   "metadata": {},
   "source": [
    "## Problem 2: Conditional Statements\n",
    "The infinite square well is a classic problem in quantum mechanics. In this case, a particle\n",
    "feels a potential\n",
    "\\begin{equation}\n",
    "    V(x) = \n",
    "    \\begin{cases}\n",
    "    0 & 0 < x < L \\\\\n",
    "    \\infty & {\\rm otherwise}\n",
    "    \\end{cases}\n",
    "\\end{equation}\n",
    "You will probably see this when you take quantum mechanics. The time-independent solution, skipping a lot of physics, is the wavefunction\n",
    "\\begin{equation}\n",
    "    \\psi(x) = \\begin{cases}\n",
    "    \\sqrt{\\frac{2}{L}} \\sin \\left( \\frac{n\\pi x}{L} \\right) & 0 \\leq x \\leq L \\\\\n",
    "    0 & {\\rm otherwise}\n",
    "    \\end{cases}\n",
    "\\end{equation}\n",
    "for integers n > 0. Write this wavefunction as a function with arguments n, x, and L. You will want to\n",
    "use a conditional statement (if/else). Verify that you get zero at x = 0 and x = L."
   ]
  },
  {
   "cell_type": "code",
   "execution_count": 6,
   "metadata": {
    "tags": []
   },
   "outputs": [
    {
     "ename": "SyntaxError",
     "evalue": "invalid syntax (3900230168.py, line 12)",
     "output_type": "error",
     "traceback": [
      "\u001b[0;36m  Cell \u001b[0;32mIn[6], line 12\u001b[0;36m\u001b[0m\n\u001b[0;31m    if (x>=0) && (x<=L):\u001b[0m\n\u001b[0m               ^\u001b[0m\n\u001b[0;31mSyntaxError\u001b[0m\u001b[0;31m:\u001b[0m invalid syntax\n"
     ]
    }
   ],
   "source": [
    "# your solution here\n",
    "\n",
    "#Import numpy to calculate sin(x)\n",
    "import numpy as np\n",
    "\n",
    "def psi(x,n,L):\n",
    "    \"\"\"\n",
    "    Return the Wavefunction evaluated at some value x given some n and L while enforcing boundary conditions.\n",
    "    \"\"\"\n",
    "\n",
    "    # Enforce boundary conditions:\n",
    "    if (x>=0) && (x<=L):\n",
    "\n",
    "        # Calculate the trigonometric term\n",
    "        trig_term = np.sin(n*np.pi*x/L)\n",
    "\n",
    "        # Calculate the value of psi\n",
    "        psi_val = (2/L)**0.5 * trig_term\n",
    "\n",
    "        # Return the value of psi\n",
    "        return psi_val\n",
    "\n",
    "    else:\n",
    "\n",
    "        # The position x is OUTSIDE the boundary conditions\n",
    "        return 0"
   ]
  },
  {
   "cell_type": "markdown",
   "metadata": {},
   "source": [
    "## Problem 3: List Slicing"
   ]
  },
  {
   "cell_type": "markdown",
   "metadata": {},
   "source": [
    "Imagine you are tasked with managing a list of daily temperatures for a week. Create a Python program to:\n",
    "\n",
    "Create a list named temperatures containing the following daily temperatures in degrees Celsius: [28, 32, 30, 26, 29, 31, 27].\n",
    "\n",
    "1. Print the entire list of temperatures.\n",
    "\n",
    "2. Print the temperature on the third day of the week.\n",
    "\n",
    "3. Print temperatures from the second day to the fifth day (inclusive).\n",
    "\n",
    "4. Print temperatures from the first day to the second to last day using negative indexing."
   ]
  },
  {
   "cell_type": "code",
   "execution_count": 7,
   "metadata": {
    "tags": []
   },
   "outputs": [],
   "source": [
    "# your solution here\n",
    "temps = [28, 32, 30, 26, 29, 31, 27]"
   ]
  },
  {
   "cell_type": "code",
   "execution_count": 8,
   "metadata": {},
   "outputs": [
    {
     "data": {
      "text/plain": [
       "[28, 32, 30, 26, 29, 31, 27]"
      ]
     },
     "execution_count": 8,
     "metadata": {},
     "output_type": "execute_result"
    }
   ],
   "source": [
    "#1) \n",
    "\n",
    "temps[:]"
   ]
  },
  {
   "cell_type": "code",
   "execution_count": 9,
   "metadata": {},
   "outputs": [
    {
     "data": {
      "text/plain": [
       "30"
      ]
     },
     "execution_count": 9,
     "metadata": {},
     "output_type": "execute_result"
    }
   ],
   "source": [
    "#2)\n",
    "\n",
    "temps[2] # Note that in python, indices start at 0 and not 1. So the THIRD ELEMENT is at INDEX 2"
   ]
  },
  {
   "cell_type": "code",
   "execution_count": 10,
   "metadata": {},
   "outputs": [
    {
     "data": {
      "text/plain": [
       "[32, 30, 26, 29]"
      ]
     },
     "execution_count": 10,
     "metadata": {},
     "output_type": "execute_result"
    }
   ],
   "source": [
    "#3) \n",
    "\n",
    "temps[1:5] # Note that the first element, index 1, IS included while the last element, index 5, IS NOT included."
   ]
  },
  {
   "cell_type": "code",
   "execution_count": 11,
   "metadata": {},
   "outputs": [
    {
     "data": {
      "text/plain": [
       "[28, 32, 30, 26, 29, 31]"
      ]
     },
     "execution_count": 11,
     "metadata": {},
     "output_type": "execute_result"
    }
   ],
   "source": [
    "#4)\n",
    "\n",
    "temps[:-1] # Note that NEGATIVE indices start at -1 and not 0. So the LAST ELEMENT is at INDEX -1"
   ]
  },
  {
   "cell_type": "markdown",
   "metadata": {},
   "source": [
    "## Problem 4: For Loop"
   ]
  },
  {
   "cell_type": "markdown",
   "metadata": {},
   "source": [
    "Use a for loop to print\n",
    "\\begin{equation}\n",
    "    S(n) = \\sum_{k=1}^{n} k^3\n",
    "\\end{equation}\n",
    "for n = 1, 2, 3, 4, 5, 6, 7, 8, 9, and 10. Then use your loop to calculate S(100)."
   ]
  },
  {
   "cell_type": "code",
   "execution_count": 12,
   "metadata": {
    "tags": []
   },
   "outputs": [
    {
     "name": "stdout",
     "output_type": "stream",
     "text": [
      "1\n",
      "9\n",
      "36\n",
      "100\n",
      "225\n",
      "441\n",
      "784\n",
      "1296\n",
      "2025\n",
      "3025\n"
     ]
    }
   ],
   "source": [
    "# your solution here\n",
    "\n",
    "# Using for loop in order to calculate S(n) for n=1,...,10\n",
    "\n",
    "# Define the max value of our summation\n",
    "n_max= 10\n",
    "\n",
    "for n in range(n_max):\n",
    "\n",
    "    # Create a variable to holder the sum, and ininitially set it to 0\n",
    "    total = 0\n",
    "\n",
    "    # What happens if we instead chose the variable name \"sum\"?\n",
    "    #sum = 0 \n",
    "\n",
    "    # Iterate over each value of k from 1 to n\n",
    "    for i in range(n+1):\n",
    "\n",
    "        # Note that i will go from 0 to n-1, so incrementing by one gives range of 1 to n\n",
    "        k = i+1\n",
    "        \n",
    "        # Increase the total sum at each step\n",
    "        total = total + k**3\n",
    "    \n",
    "    \n",
    "    print(total)\n"
   ]
  },
  {
   "cell_type": "code",
   "execution_count": 13,
   "metadata": {
    "tags": []
   },
   "outputs": [
    {
     "name": "stdout",
     "output_type": "stream",
     "text": [
      "25502500\n"
     ]
    }
   ],
   "source": [
    "# Now just finding value for S(100)\n",
    "\n",
    "# Using for loop in order to calculate S(n) for n=1,...,10\n",
    "\n",
    "# Define the max value of our summation\n",
    "n_max = 100\n",
    "\n",
    "# Create a variable to holder the sum, and ininitially set it to 0\n",
    "total = 0\n",
    "\n",
    "# Iterate over each value of k from 1 to n\n",
    "for i in range(n_max):\n",
    "\n",
    "    # Note that i will go from 0 to n-1, so incrementing by one gives range of 1 to n\n",
    "    k = i+1\n",
    "    \n",
    "    # Increase the total sum at each step\n",
    "    total = total + k**3\n",
    "\n",
    "\n",
    "print(total)\n"
   ]
  },
  {
   "cell_type": "markdown",
   "metadata": {},
   "source": [
    "# Extra Problems"
   ]
  },
  {
   "cell_type": "markdown",
   "metadata": {},
   "source": [
    "## Extra Problem 1: Dictionary of Dictionaries"
   ]
  },
  {
   "cell_type": "markdown",
   "metadata": {},
   "source": [
    "You are creating a dictionary to keep track of video game character stats. Write a Python program that does the following:\n",
    "\n",
    "Create an empty dictionary to store information about characters, where each character has the following information:\n",
    "\n",
    "Name, HP (Health Points), MP (Magic Points)\n",
    "\n",
    "Since it is the first time you are working with a dictionary of dictionaries, I will create the dictionary and add three characters for you:\n",
    "```\n",
    "characters = {}\n",
    "characters['Malenia'] = {'HP': 1000000, 'MP': 1000}\n",
    "characters['Rennala'] = {'HP': 10, 'MP': 5000}\n",
    "characters['Radahn'] = {'HP':5000, 'MP':5000}\n",
    "```\n",
    "\n",
    "1. Print this dictionary to see what a dictionary of dictionaries look like. You will see that this is a dictionary where the key-value pair is name-stats, but \"stats\" for each character is again a dictionary with traits-value pairs.\n",
    "\n",
    "2. Implement a function add_character(name, HP, MP) that takes the name, HP, MP as arguments and adds a new character to the dictionary. Make sure to handle cases where the name already exists in the dictionary. You can choose to throw an error if the user tries to add existing names, or you can allow updates to existing characters if you are feeling ambitious.\n",
    "\n",
    "3. Implement a function get_character(name) that takes the name of the character as an argument and prints their stats. If the character is not in the dictionary, print an appropriate message."
   ]
  },
  {
   "cell_type": "code",
   "execution_count": 14,
   "metadata": {
    "tags": []
   },
   "outputs": [
    {
     "name": "stdout",
     "output_type": "stream",
     "text": [
      "{'Malenia': {'HP': 1000000, 'MP': 1000}, 'Rennala': {'HP': 10, 'MP': 5000}, 'Radahn': {'HP': 5000, 'MP': 5000}}\n"
     ]
    }
   ],
   "source": [
    "characters = {}\n",
    "characters['Malenia'] = {'HP': 1000000, 'MP': 1000}\n",
    "characters['Rennala'] = {'HP': 10, 'MP': 5000}\n",
    "characters['Radahn'] = {'HP':5000, 'MP':5000}\n",
    "\n",
    "# your solution here\n",
    "\n",
    "print(characters)"
   ]
  },
  {
   "cell_type": "markdown",
   "metadata": {},
   "source": [
    "See how each name is directly connected to their stats. In Python, dictionaries have associated \"keys\" (in this case, the character names) and corresponding associated \"values\" (in this case, their stats)."
   ]
  },
  {
   "cell_type": "code",
   "execution_count": 15,
   "metadata": {},
   "outputs": [],
   "source": [
    "\n",
    "def add_character(name, HP, MP):\n",
    "    \"\"\"\n",
    "    Add new character to characters dictionary\n",
    "\n",
    "    Parameters:\n",
    "        name: Name of character to be added; will be new key in character dictionary\n",
    "        HP: Health of character to be added; will be value corresponding to character's 'HP' dictionary key\n",
    "        MP: MP of character to be added; will be value corresponding to character's 'MP' dictionary key\n",
    "\n",
    "    Output:\n",
    "        None: No output from this function, it will only actively change the characters dictionary.\n",
    "    \"\"\"\n",
    "\n",
    "    # Create a dictionary to hold the new characters stats\n",
    "    char_stats = {'HP': HP, 'MP': MP}\n",
    "\n",
    "    # Create a new entry into the \"characters\" dictionary with the new name as the key and the new stats dictionary as the value\n",
    "    characters[name] = char_stats\n"
   ]
  },
  {
   "cell_type": "code",
   "execution_count": 16,
   "metadata": {},
   "outputs": [],
   "source": [
    "# Add a new character to the dictionary\n",
    "add_character('Shane The TA', 100, 2000)"
   ]
  },
  {
   "cell_type": "code",
   "execution_count": 17,
   "metadata": {},
   "outputs": [
    {
     "data": {
      "text/plain": [
       "{'Malenia': {'HP': 1000000, 'MP': 1000},\n",
       " 'Rennala': {'HP': 10, 'MP': 5000},\n",
       " 'Radahn': {'HP': 5000, 'MP': 5000},\n",
       " 'Shane The TA': {'HP': 100, 'MP': 2000}}"
      ]
     },
     "execution_count": 17,
     "metadata": {},
     "output_type": "execute_result"
    }
   ],
   "source": [
    "characters # Note that if you simply enter a variable name and include nothing after it, it will effectively print out the value as if you had called the print function. This is useful for quickly debugging code."
   ]
  },
  {
   "cell_type": "code",
   "execution_count": 18,
   "metadata": {},
   "outputs": [],
   "source": [
    "def get_character(name):\n",
    "    \"\"\"\n",
    "    Print out the stats for a specific character in the dictionary. Return appropriate message if character is not in dictionary.\n",
    "\n",
    "    Parameters:\n",
    "        name: Name of character to print out the stats for.\n",
    "\n",
    "    Output:\n",
    "        None: No output from this function, it will simply print the stats of the character if applicable.\n",
    "    \"\"\"\n",
    "\n",
    "    # Check to ensure name enter is a valid key\n",
    "    if name in characters.keys():\n",
    "    \n",
    "        # Retrieve the stats of the character\n",
    "        char_hp = characters[name]['HP']\n",
    "        char_mp = characters[name]['MP']\n",
    "\n",
    "        # Print character stats for user\n",
    "        print(f\"{name} has {char_hp} HP and {char_mp} MP\")\n",
    "\n",
    "    else:\n",
    "\n",
    "        # Character is not in dictionary, return appropriate message\n",
    "        print(f\"Sorry, {name} is nota valid key in characters. Please enter a valid name: \")\n",
    "        print(characters.keys())\n",
    "    "
   ]
  },
  {
   "cell_type": "code",
   "execution_count": 19,
   "metadata": {},
   "outputs": [
    {
     "name": "stdout",
     "output_type": "stream",
     "text": [
      "Sorry, Radahnn is nota valid key in characters. Please enter a valid name: \n",
      "dict_keys(['Malenia', 'Rennala', 'Radahn', 'Shane The TA'])\n"
     ]
    }
   ],
   "source": [
    "get_character(\"Radahnn\")"
   ]
  },
  {
   "cell_type": "code",
   "execution_count": 20,
   "metadata": {},
   "outputs": [
    {
     "name": "stdout",
     "output_type": "stream",
     "text": [
      "Radahn has 5000 HP and 5000 MP\n"
     ]
    }
   ],
   "source": [
    "get_character(\"Radahn\")"
   ]
  }
 ],
 "metadata": {
  "kernelspec": {
   "display_name": "Python 3 (ipykernel)",
   "language": "python",
   "name": "python3"
  },
  "language_info": {
   "codemirror_mode": {
    "name": "ipython",
    "version": 3
   },
   "file_extension": ".py",
   "mimetype": "text/x-python",
   "name": "python",
   "nbconvert_exporter": "python",
   "pygments_lexer": "ipython3",
   "version": "3.9.5"
  }
 },
 "nbformat": 4,
 "nbformat_minor": 4
}
